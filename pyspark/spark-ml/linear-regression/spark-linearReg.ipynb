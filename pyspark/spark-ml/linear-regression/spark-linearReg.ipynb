{
 "cells": [
  {
   "cell_type": "markdown",
   "id": "53bff876",
   "metadata": {},
   "source": [
    "# Regressão Linear \n",
    "\n",
    "## MQO "
   ]
  },
  {
   "cell_type": "code",
   "execution_count": 1,
   "id": "e2a04778",
   "metadata": {},
   "outputs": [
    {
     "name": "stderr",
     "output_type": "stream",
     "text": [
      "22/05/11 00:07:39 WARN Utils: Your hostname, macaubas-VirtualBox resolves to a loopback address: 127.0.1.1; using 10.0.2.15 instead (on interface enp0s3)\n",
      "22/05/11 00:07:39 WARN Utils: Set SPARK_LOCAL_IP if you need to bind to another address\n",
      "WARNING: An illegal reflective access operation has occurred\n",
      "WARNING: Illegal reflective access by org.apache.spark.unsafe.Platform (file:/home/macaubas/spark-3.2.1-bin-hadoop3.2/jars/spark-unsafe_2.12-3.2.1.jar) to constructor java.nio.DirectByteBuffer(long,int)\n",
      "WARNING: Please consider reporting this to the maintainers of org.apache.spark.unsafe.Platform\n",
      "WARNING: Use --illegal-access=warn to enable warnings of further illegal reflective access operations\n",
      "WARNING: All illegal access operations will be denied in a future release\n",
      "Using Spark's default log4j profile: org/apache/spark/log4j-defaults.properties\n",
      "Setting default log level to \"WARN\".\n",
      "To adjust logging level use sc.setLogLevel(newLevel). For SparkR, use setLogLevel(newLevel).\n",
      "22/05/11 00:07:40 WARN NativeCodeLoader: Unable to load native-hadoop library for your platform... using builtin-java classes where applicable\n",
      "22/05/11 00:07:41 WARN Utils: Service 'SparkUI' could not bind on port 4040. Attempting port 4041.\n",
      "22/05/11 00:07:41 WARN Utils: Service 'SparkUI' could not bind on port 4041. Attempting port 4042.\n",
      "22/05/11 00:07:41 WARN Utils: Service 'SparkUI' could not bind on port 4042. Attempting port 4043.\n"
     ]
    }
   ],
   "source": [
    "# Inicializando Spark\n",
    "import findspark\n",
    "findspark.init('/home/macaubas/spark-3.2.1-bin-hadoop3.2')\n",
    "import pyspark\n",
    "\n",
    "from pyspark.sql import SparkSession \n",
    "\n",
    "spark = SparkSession.builder.appName(\"linearReg\").getOrCreate()"
   ]
  },
  {
   "cell_type": "markdown",
   "id": "689d0949",
   "metadata": {},
   "source": [
    "### Imports"
   ]
  },
  {
   "cell_type": "code",
   "execution_count": 1,
   "id": "e92d1312",
   "metadata": {},
   "outputs": [
    {
     "ename": "ModuleNotFoundError",
     "evalue": "No module named 'pyspark'",
     "output_type": "error",
     "traceback": [
      "\u001b[0;31m---------------------------------------------------------------------------\u001b[0m",
      "\u001b[0;31mModuleNotFoundError\u001b[0m                       Traceback (most recent call last)",
      "Input \u001b[0;32mIn [1]\u001b[0m, in \u001b[0;36m<cell line: 2>\u001b[0;34m()\u001b[0m\n\u001b[1;32m      1\u001b[0m \u001b[38;5;66;03m# Regressão linear\u001b[39;00m\n\u001b[0;32m----> 2\u001b[0m \u001b[38;5;28;01mfrom\u001b[39;00m \u001b[38;5;21;01mpyspark\u001b[39;00m\u001b[38;5;21;01m.\u001b[39;00m\u001b[38;5;21;01mml\u001b[39;00m\u001b[38;5;21;01m.\u001b[39;00m\u001b[38;5;21;01mregression\u001b[39;00m \u001b[38;5;28;01mimport\u001b[39;00m LinearRegression\n\u001b[1;32m      4\u001b[0m \u001b[38;5;66;03m# Vetores\u001b[39;00m\n\u001b[1;32m      5\u001b[0m \u001b[38;5;28;01mfrom\u001b[39;00m \u001b[38;5;21;01mpyspark\u001b[39;00m\u001b[38;5;21;01m.\u001b[39;00m\u001b[38;5;21;01mml\u001b[39;00m\u001b[38;5;21;01m.\u001b[39;00m\u001b[38;5;21;01mlinalg\u001b[39;00m \u001b[38;5;28;01mimport\u001b[39;00m Vectors\n",
      "\u001b[0;31mModuleNotFoundError\u001b[0m: No module named 'pyspark'"
     ]
    }
   ],
   "source": [
    "# Regressão linear\n",
    "from pyspark.ml.regression import LinearRegression\n",
    "\n",
    "# Vetores\n",
    "from pyspark.ml.linalg import Vectors\n",
    "from pyspark.ml.feature import VectorAssembler\n"
   ]
  },
  {
   "cell_type": "markdown",
   "id": "d29476e4",
   "metadata": {},
   "source": [
    "### Carregando os dados"
   ]
  },
  {
   "cell_type": "code",
   "execution_count": 54,
   "id": "0dee495c",
   "metadata": {},
   "outputs": [
    {
     "name": "stdout",
     "output_type": "stream",
     "text": [
      "root\n",
      " |-- Email: string (nullable = true)\n",
      " |-- Address: string (nullable = true)\n",
      " |-- Avatar: string (nullable = true)\n",
      " |-- Avg Session Length: double (nullable = true)\n",
      " |-- Time on App: double (nullable = true)\n",
      " |-- Time on Website: double (nullable = true)\n",
      " |-- Length of Membership: double (nullable = true)\n",
      " |-- Yearly Amount Spent: double (nullable = true)\n",
      "\n"
     ]
    }
   ],
   "source": [
    "# Load data\n",
    "data = spark.read.csv('Ecommerce_Customers.csv', inferSchema=True, header=True)\n",
    "\n",
    "data.printSchema()"
   ]
  },
  {
   "cell_type": "markdown",
   "id": "cd71ab85",
   "metadata": {},
   "source": [
    "**Alvo da predição: Yearly Amount Spent**"
   ]
  },
  {
   "cell_type": "code",
   "execution_count": 55,
   "id": "fa2bd725",
   "metadata": {},
   "outputs": [
    {
     "data": {
      "text/plain": [
       "[Row(Email='mstephenson@fernandez.com', Address='835 Frank TunnelWrightmouth, MI 82180-9605', Avatar='Violet', Avg Session Length=34.49726772511229, Time on App=12.65565114916675, Time on Website=39.57766801952616, Length of Membership=4.0826206329529615, Yearly Amount Spent=587.9510539684005)]"
      ]
     },
     "execution_count": 55,
     "metadata": {},
     "output_type": "execute_result"
    }
   ],
   "source": [
    "data.head(1)"
   ]
  },
  {
   "cell_type": "markdown",
   "id": "6efecc84",
   "metadata": {},
   "source": [
    "### Criando vetores"
   ]
  },
  {
   "cell_type": "code",
   "execution_count": 57,
   "id": "b1498959",
   "metadata": {},
   "outputs": [
    {
     "data": {
      "text/plain": [
       "['Email',\n",
       " 'Address',\n",
       " 'Avatar',\n",
       " 'Avg Session Length',\n",
       " 'Time on App',\n",
       " 'Time on Website',\n",
       " 'Length of Membership',\n",
       " 'Yearly Amount Spent']"
      ]
     },
     "execution_count": 57,
     "metadata": {},
     "output_type": "execute_result"
    }
   ],
   "source": [
    "data.columns"
   ]
  },
  {
   "cell_type": "markdown",
   "id": "27369c16",
   "metadata": {},
   "source": [
    "**Coluna Label: Yearly Amount Spent**\n",
    "\n",
    "**Features: Avg Session Length, Time on App, Time on Website, Length of Membership**"
   ]
  },
  {
   "cell_type": "code",
   "execution_count": 62,
   "id": "4b7c1405",
   "metadata": {},
   "outputs": [
    {
     "name": "stdout",
     "output_type": "stream",
     "text": [
      "root\n",
      " |-- Email: string (nullable = true)\n",
      " |-- Address: string (nullable = true)\n",
      " |-- Avatar: string (nullable = true)\n",
      " |-- Avg Session Length: double (nullable = true)\n",
      " |-- Time on App: double (nullable = true)\n",
      " |-- Time on Website: double (nullable = true)\n",
      " |-- Length of Membership: double (nullable = true)\n",
      " |-- Yearly Amount Spent: double (nullable = true)\n",
      " |-- features: vector (nullable = true)\n",
      "\n"
     ]
    }
   ],
   "source": [
    "# Criando as features (características)\n",
    "assembler = VectorAssembler(inputCols = ['Avg Session Length',\n",
    "                                         'Time on App',\n",
    "                                         'Time on Website',\n",
    "                                         'Length of Membership'],\n",
    "                           outputCol='features')\n",
    "\n",
    "\n",
    "# Transformando os dados\n",
    "output = assembler.transform(data)\n",
    "\n",
    "output.printSchema()"
   ]
  },
  {
   "cell_type": "code",
   "execution_count": 65,
   "id": "cdf9502c",
   "metadata": {},
   "outputs": [
    {
     "data": {
      "text/plain": [
       "[Row(Features=DenseVector([34.4973, 12.6557, 39.5777, 4.0826]))]"
      ]
     },
     "execution_count": 65,
     "metadata": {},
     "output_type": "execute_result"
    }
   ],
   "source": [
    "#Visualizando Features\n",
    "output.select('Features').head(1)"
   ]
  },
  {
   "cell_type": "code",
   "execution_count": 67,
   "id": "05a7fc78",
   "metadata": {},
   "outputs": [
    {
     "name": "stdout",
     "output_type": "stream",
     "text": [
      "+--------------------+-------------------+\n",
      "|            features|Yearly Amount Spent|\n",
      "+--------------------+-------------------+\n",
      "|[29.5324289670579...|  408.6403510726275|\n",
      "|[30.5743636841713...| 442.06441375806565|\n",
      "|[30.7377203726281...|  461.7807421962299|\n",
      "|[30.8162006488763...|   266.086340948469|\n",
      "|[30.8364326747734...|  467.5019004269896|\n",
      "|[30.8794843441274...|  490.2065999848547|\n",
      "|[31.0472221394875...|  392.4973991890214|\n",
      "|[31.0662181616375...| 448.93329320767435|\n",
      "|[31.1239743499119...|  486.9470538397658|\n",
      "|[31.1280900496166...|  557.2526867470547|\n",
      "|[31.1695067987115...|  427.3565308022928|\n",
      "|[31.2681042107507...|  423.4705331738239|\n",
      "|[31.2834474760581...|  591.7810894256675|\n",
      "|[31.3091926408918...|  432.7207178399336|\n",
      "|[31.3123495994443...|  463.5914180279406|\n",
      "|[31.3662121671876...|  430.5888825564849|\n",
      "|[31.3895854806643...|  410.0696110599829|\n",
      "|[31.4252268808548...|  530.7667186547619|\n",
      "|[31.4459724827577...| 484.87696493512857|\n",
      "|[31.5147378578019...|  489.8124879964614|\n",
      "+--------------------+-------------------+\n",
      "only showing top 20 rows\n",
      "\n"
     ]
    }
   ],
   "source": [
    "# Selecionando Dados finais\n",
    "final_data = output.select('features', 'Yearly Amount Spent')\n",
    "\n",
    "# Separando entre test e treino\n",
    "train_data, test_data  = final_data.randomSplit([0.7,0.3])\n",
    "\n",
    "# Visualizando Treino\n",
    "train_data.show()"
   ]
  },
  {
   "cell_type": "markdown",
   "id": "92312480",
   "metadata": {},
   "source": [
    "### Descrevendo treino e teste"
   ]
  },
  {
   "cell_type": "code",
   "execution_count": 68,
   "id": "5561ac8a",
   "metadata": {},
   "outputs": [
    {
     "name": "stdout",
     "output_type": "stream",
     "text": [
      "+-------+-------------------+\n",
      "|summary|Yearly Amount Spent|\n",
      "+-------+-------------------+\n",
      "|  count|                358|\n",
      "|   mean|  497.6912690904668|\n",
      "| stddev|  77.48853448017037|\n",
      "|    min| 256.67058229005585|\n",
      "|    max|  744.2218671047146|\n",
      "+-------+-------------------+\n",
      "\n"
     ]
    }
   ],
   "source": [
    "# Treino\n",
    "train_data.describe().show()"
   ]
  },
  {
   "cell_type": "code",
   "execution_count": 69,
   "id": "261a6a2c",
   "metadata": {},
   "outputs": [
    {
     "name": "stdout",
     "output_type": "stream",
     "text": [
      "+-------+-------------------+\n",
      "|summary|Yearly Amount Spent|\n",
      "+-------+-------------------+\n",
      "|  count|                142|\n",
      "|   mean|  503.4052450345657|\n",
      "| stddev|   83.8865350300295|\n",
      "|    min|  275.9184206503857|\n",
      "|    max|  765.5184619388373|\n",
      "+-------+-------------------+\n",
      "\n"
     ]
    }
   ],
   "source": [
    "test_data.describe().show()"
   ]
  },
  {
   "cell_type": "markdown",
   "id": "c57ad2e0",
   "metadata": {},
   "source": [
    "### Modelo"
   ]
  },
  {
   "cell_type": "code",
   "execution_count": 72,
   "id": "f6db7482",
   "metadata": {},
   "outputs": [
    {
     "name": "stderr",
     "output_type": "stream",
     "text": [
      "22/05/11 13:53:15 WARN Instrumentation: [ce8dc637] regParam is zero, which might cause numerical instability and overfitting.\n"
     ]
    }
   ],
   "source": [
    "# Caracterizando o modelo\n",
    "lr = LinearRegression(labelCol= 'Yearly Amount Spent')\n",
    "\n",
    "# Fitting model aos dados treinados\n",
    "lr_Model = lr.fit(train_data)"
   ]
  },
  {
   "cell_type": "code",
   "execution_count": 73,
   "id": "3d10c9e3",
   "metadata": {},
   "outputs": [
    {
     "data": {
      "text/plain": [
       "DenseVector([26.1654, 38.5181, 0.2437, 61.3936])"
      ]
     },
     "execution_count": 73,
     "metadata": {},
     "output_type": "execute_result"
    }
   ],
   "source": [
    "# Coeficientes\n",
    "lr_Model.coefficients"
   ]
  },
  {
   "cell_type": "code",
   "execution_count": 74,
   "id": "4bd74b53",
   "metadata": {},
   "outputs": [
    {
     "data": {
      "text/plain": [
       "-1055.8160578466643"
      ]
     },
     "execution_count": 74,
     "metadata": {},
     "output_type": "execute_result"
    }
   ],
   "source": [
    "# Intercepto\n",
    "lr_Model.intercept"
   ]
  },
  {
   "cell_type": "markdown",
   "id": "435c20df",
   "metadata": {},
   "source": [
    "### Avaliando o modelo"
   ]
  },
  {
   "cell_type": "code",
   "execution_count": 75,
   "id": "2d77e872",
   "metadata": {},
   "outputs": [],
   "source": [
    "# Checando ajuste\n",
    "test_results = lr_Model.evaluate(test_data)"
   ]
  },
  {
   "cell_type": "code",
   "execution_count": 81,
   "id": "854bb547",
   "metadata": {},
   "outputs": [
    {
     "name": "stdout",
     "output_type": "stream",
     "text": [
      "+--------------------+\n",
      "|           residuals|\n",
      "+--------------------+\n",
      "| -10.916118597799937|\n",
      "|  -4.673331989359042|\n",
      "|   7.657118079531074|\n",
      "|  -5.225244167759058|\n",
      "|-0.01925444706319...|\n",
      "|   4.834189303509788|\n",
      "| -6.9869363552396635|\n",
      "| -3.9815282086972843|\n",
      "|  -0.987317731026792|\n",
      "|  18.741245924202076|\n",
      "|  2.7550282360833194|\n",
      "|  -3.686020012329436|\n",
      "|    8.64922443316351|\n",
      "| -1.8078080953935114|\n",
      "| -13.358565854058952|\n",
      "|   8.620630576437293|\n",
      "|   17.57568631007598|\n",
      "|   1.402201901403032|\n",
      "|   5.997185443290505|\n",
      "| -11.357883217481287|\n",
      "+--------------------+\n",
      "only showing top 20 rows\n",
      "\n"
     ]
    }
   ],
   "source": [
    "# Residuals\n",
    "test_results.residuals.show()"
   ]
  },
  {
   "cell_type": "code",
   "execution_count": 82,
   "id": "07a666db",
   "metadata": {},
   "outputs": [
    {
     "data": {
      "text/plain": [
       "0.9869903456063374"
      ]
     },
     "execution_count": 82,
     "metadata": {},
     "output_type": "execute_result"
    }
   ],
   "source": [
    "# R2\n",
    "test_results.r2"
   ]
  },
  {
   "cell_type": "code",
   "execution_count": 76,
   "id": "c5446f0f",
   "metadata": {},
   "outputs": [
    {
     "data": {
      "text/plain": [
       "9.534337472778349"
      ]
     },
     "execution_count": 76,
     "metadata": {},
     "output_type": "execute_result"
    }
   ],
   "source": [
    "# RMSE\n",
    "test_results.rootMeanSquaredError"
   ]
  },
  {
   "cell_type": "markdown",
   "id": "a5af9884",
   "metadata": {},
   "source": [
    "### Deploying model - apenas features\n",
    "\n",
    "\n",
    "Baseados nas características, qual a previsão? "
   ]
  },
  {
   "cell_type": "code",
   "execution_count": 83,
   "id": "b6385611",
   "metadata": {},
   "outputs": [
    {
     "name": "stdout",
     "output_type": "stream",
     "text": [
      "+--------------------+\n",
      "|            features|\n",
      "+--------------------+\n",
      "|[30.3931845423455...|\n",
      "|[30.4925366965402...|\n",
      "|[30.9716756438877...|\n",
      "|[31.0613251567161...|\n",
      "|[31.2606468698795...|\n",
      "|[31.3584771924370...|\n",
      "|[31.4474464941278...|\n",
      "|[31.5171218025062...|\n",
      "|[31.5761319713222...|\n",
      "|[31.6005122003032...|\n",
      "|[31.7366356860502...|\n",
      "|[31.8124825597242...|\n",
      "|[31.8512531286083...|\n",
      "|[31.8530748017465...|\n",
      "|[31.9365486184489...|\n",
      "|[31.9549038566348...|\n",
      "|[32.0180740106320...|\n",
      "|[32.0444861274404...|\n",
      "|[32.0478009788678...|\n",
      "|[32.0637746203136...|\n",
      "+--------------------+\n",
      "only showing top 20 rows\n",
      "\n"
     ]
    }
   ],
   "source": [
    "unlabeled_data = test_data.select('features')\n",
    "\n",
    "unlabeled_data.show()"
   ]
  },
  {
   "cell_type": "code",
   "execution_count": 86,
   "id": "c32b4241",
   "metadata": {},
   "outputs": [
    {
     "name": "stdout",
     "output_type": "stream",
     "text": [
      "+--------------------+------------------+\n",
      "|            features|        prediction|\n",
      "+--------------------+------------------+\n",
      "|[30.3931845423455...|330.84498840099354|\n",
      "|[30.4925366965402...|287.14457770927356|\n",
      "|[30.9716756438877...|486.98149167736165|\n",
      "|[31.0613251567161...|492.78070222566066|\n",
      "|[31.2606468698795...|421.34588570401456|\n",
      "|[31.3584771924370...| 490.3417611459656|\n",
      "|[31.4474464941278...| 425.5896784504637|\n",
      "|[31.5171218025062...|  279.899948859083|\n",
      "|[31.5761319713222...| 542.2139017203551|\n",
      "|[31.6005122003032...|460.43160556689486|\n",
      "|[31.7366356860502...| 494.1784180194486|\n",
      "|[31.8124825597242...|396.49636499612666|\n",
      "|[31.8512531286083...| 464.3430222336349|\n",
      "|[31.8530748017465...| 461.0929315577455|\n",
      "|[31.9365486184489...|440.55795074938715|\n",
      "|[31.9549038566348...| 431.3772493634897|\n",
      "|[32.0180740106320...| 340.2074244352393|\n",
      "|[32.0444861274404...|446.82762728514695|\n",
      "|[32.0478009788678...|507.45338574280595|\n",
      "|[32.0637746203136...| 389.6887901242851|\n",
      "+--------------------+------------------+\n",
      "only showing top 20 rows\n",
      "\n"
     ]
    }
   ],
   "source": [
    "predictions = lr_Model.transform(unlabeled_data)\n",
    "\n",
    "predictions.show()"
   ]
  }
 ],
 "metadata": {
  "kernelspec": {
   "display_name": "Python 3 (ipykernel)",
   "language": "python",
   "name": "python3"
  },
  "language_info": {
   "codemirror_mode": {
    "name": "ipython",
    "version": 3
   },
   "file_extension": ".py",
   "mimetype": "text/x-python",
   "name": "python",
   "nbconvert_exporter": "python",
   "pygments_lexer": "ipython3",
   "version": "3.10.4"
  }
 },
 "nbformat": 4,
 "nbformat_minor": 5
}

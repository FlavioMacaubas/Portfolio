{
 "cells": [
  {
   "cell_type": "markdown",
   "id": "53bff876",
   "metadata": {},
   "source": [
    "# Regressão Linear \n",
    "\n",
    "## MQO "
   ]
  },
  {
   "cell_type": "code",
   "execution_count": 2,
   "id": "e2a04778",
   "metadata": {},
   "outputs": [
    {
     "name": "stderr",
     "output_type": "stream",
     "text": [
      "22/05/16 17:28:22 WARN Utils: Your hostname, macaubas-VirtualBox resolves to a loopback address: 127.0.1.1; using 10.0.2.15 instead (on interface enp0s3)\n",
      "22/05/16 17:28:22 WARN Utils: Set SPARK_LOCAL_IP if you need to bind to another address\n",
      "WARNING: An illegal reflective access operation has occurred\n",
      "WARNING: Illegal reflective access by org.apache.spark.unsafe.Platform (file:/home/macaubas/spark-3.2.1-bin-hadoop3.2/jars/spark-unsafe_2.12-3.2.1.jar) to constructor java.nio.DirectByteBuffer(long,int)\n",
      "WARNING: Please consider reporting this to the maintainers of org.apache.spark.unsafe.Platform\n",
      "WARNING: Use --illegal-access=warn to enable warnings of further illegal reflective access operations\n",
      "WARNING: All illegal access operations will be denied in a future release\n",
      "Using Spark's default log4j profile: org/apache/spark/log4j-defaults.properties\n",
      "Setting default log level to \"WARN\".\n",
      "To adjust logging level use sc.setLogLevel(newLevel). For SparkR, use setLogLevel(newLevel).\n",
      "22/05/16 17:28:23 WARN NativeCodeLoader: Unable to load native-hadoop library for your platform... using builtin-java classes where applicable\n",
      "22/05/16 17:28:24 WARN Utils: Service 'SparkUI' could not bind on port 4040. Attempting port 4041.\n",
      "22/05/16 17:28:24 WARN Utils: Service 'SparkUI' could not bind on port 4041. Attempting port 4042.\n"
     ]
    }
   ],
   "source": [
    "# Inicializando Spark\n",
    "import findspark\n",
    "findspark.init('/home/macaubas/spark-3.2.1-bin-hadoop3.2')\n",
    "import pyspark\n",
    "\n",
    "from pyspark.sql import SparkSession \n",
    "\n",
    "spark = SparkSession.builder.appName(\"linearReg\").getOrCreate()"
   ]
  },
  {
   "cell_type": "markdown",
   "id": "689d0949",
   "metadata": {},
   "source": [
    "### Imports"
   ]
  },
  {
   "cell_type": "code",
   "execution_count": 3,
   "id": "e92d1312",
   "metadata": {},
   "outputs": [],
   "source": [
    "# Regressão linear\n",
    "from pyspark.ml.regression import LinearRegression\n",
    "\n",
    "# Vetores\n",
    "from pyspark.ml.linalg import Vectors\n",
    "from pyspark.ml.feature import VectorAssembler\n"
   ]
  },
  {
   "cell_type": "markdown",
   "id": "d29476e4",
   "metadata": {},
   "source": [
    "### Carregando os dados"
   ]
  },
  {
   "cell_type": "code",
   "execution_count": 4,
   "id": "0dee495c",
   "metadata": {},
   "outputs": [
    {
     "name": "stdout",
     "output_type": "stream",
     "text": [
      "root\n",
      " |-- Email: string (nullable = true)\n",
      " |-- Address: string (nullable = true)\n",
      " |-- Avatar: string (nullable = true)\n",
      " |-- Avg Session Length: double (nullable = true)\n",
      " |-- Time on App: double (nullable = true)\n",
      " |-- Time on Website: double (nullable = true)\n",
      " |-- Length of Membership: double (nullable = true)\n",
      " |-- Yearly Amount Spent: double (nullable = true)\n",
      "\n"
     ]
    }
   ],
   "source": [
    "# Load data\n",
    "data = spark.read.csv('Ecommerce_Customers.csv', inferSchema=True, header=True)\n",
    "\n",
    "data.printSchema()"
   ]
  },
  {
   "cell_type": "markdown",
   "id": "cd71ab85",
   "metadata": {},
   "source": [
    "**Alvo da predição: Yearly Amount Spent**"
   ]
  },
  {
   "cell_type": "code",
   "execution_count": 5,
   "id": "fa2bd725",
   "metadata": {},
   "outputs": [
    {
     "data": {
      "text/plain": [
       "[Row(Email='mstephenson@fernandez.com', Address='835 Frank TunnelWrightmouth, MI 82180-9605', Avatar='Violet', Avg Session Length=34.49726772511229, Time on App=12.65565114916675, Time on Website=39.57766801952616, Length of Membership=4.0826206329529615, Yearly Amount Spent=587.9510539684005)]"
      ]
     },
     "execution_count": 5,
     "metadata": {},
     "output_type": "execute_result"
    }
   ],
   "source": [
    "data.head(1)"
   ]
  },
  {
   "cell_type": "markdown",
   "id": "6efecc84",
   "metadata": {},
   "source": [
    "### Criando vetores"
   ]
  },
  {
   "cell_type": "code",
   "execution_count": 6,
   "id": "b1498959",
   "metadata": {},
   "outputs": [
    {
     "data": {
      "text/plain": [
       "['Email',\n",
       " 'Address',\n",
       " 'Avatar',\n",
       " 'Avg Session Length',\n",
       " 'Time on App',\n",
       " 'Time on Website',\n",
       " 'Length of Membership',\n",
       " 'Yearly Amount Spent']"
      ]
     },
     "execution_count": 6,
     "metadata": {},
     "output_type": "execute_result"
    }
   ],
   "source": [
    "data.columns"
   ]
  },
  {
   "cell_type": "markdown",
   "id": "27369c16",
   "metadata": {},
   "source": [
    "**Coluna Label: Yearly Amount Spent**\n",
    "\n",
    "**Features: Avg Session Length, Time on App, Time on Website, Length of Membership**"
   ]
  },
  {
   "cell_type": "code",
   "execution_count": 7,
   "id": "4b7c1405",
   "metadata": {},
   "outputs": [
    {
     "name": "stdout",
     "output_type": "stream",
     "text": [
      "root\n",
      " |-- Email: string (nullable = true)\n",
      " |-- Address: string (nullable = true)\n",
      " |-- Avatar: string (nullable = true)\n",
      " |-- Avg Session Length: double (nullable = true)\n",
      " |-- Time on App: double (nullable = true)\n",
      " |-- Time on Website: double (nullable = true)\n",
      " |-- Length of Membership: double (nullable = true)\n",
      " |-- Yearly Amount Spent: double (nullable = true)\n",
      " |-- features: vector (nullable = true)\n",
      "\n"
     ]
    }
   ],
   "source": [
    "# Criando as features (características)\n",
    "assembler = VectorAssembler(inputCols = ['Avg Session Length',\n",
    "                                         'Time on App',\n",
    "                                         'Time on Website',\n",
    "                                         'Length of Membership'],\n",
    "                           outputCol='features')\n",
    "\n",
    "\n",
    "# Transformando os dados\n",
    "output = assembler.transform(data)\n",
    "\n",
    "output.printSchema()"
   ]
  },
  {
   "cell_type": "code",
   "execution_count": 8,
   "id": "cdf9502c",
   "metadata": {},
   "outputs": [
    {
     "data": {
      "text/plain": [
       "[Row(Features=DenseVector([34.4973, 12.6557, 39.5777, 4.0826]))]"
      ]
     },
     "execution_count": 8,
     "metadata": {},
     "output_type": "execute_result"
    }
   ],
   "source": [
    "#Visualizando Features\n",
    "output.select('Features').head(1)"
   ]
  },
  {
   "cell_type": "code",
   "execution_count": 9,
   "id": "05a7fc78",
   "metadata": {},
   "outputs": [
    {
     "name": "stdout",
     "output_type": "stream",
     "text": [
      "+--------------------+-------------------+\n",
      "|            features|Yearly Amount Spent|\n",
      "+--------------------+-------------------+\n",
      "|[29.5324289670579...|  408.6403510726275|\n",
      "|[30.4925366965402...|  282.4712457199145|\n",
      "|[30.5743636841713...| 442.06441375806565|\n",
      "|[30.7377203726281...|  461.7807421962299|\n",
      "|[30.8364326747734...|  467.5019004269896|\n",
      "|[30.8794843441274...|  490.2065999848547|\n",
      "|[31.0472221394875...|  392.4973991890214|\n",
      "|[31.0613251567161...|  487.5554580579016|\n",
      "|[31.0662181616375...| 448.93329320767435|\n",
      "|[31.1239743499119...|  486.9470538397658|\n",
      "|[31.2681042107507...|  423.4705331738239|\n",
      "|[31.2834474760581...|  591.7810894256675|\n",
      "|[31.3662121671876...|  430.5888825564849|\n",
      "|[31.3895854806643...|  410.0696110599829|\n",
      "|[31.4252268808548...|  530.7667186547619|\n",
      "|[31.4459724827577...| 484.87696493512857|\n",
      "|[31.4474464941278...|   418.602742095224|\n",
      "|[31.5257524169682...|  443.9656268098819|\n",
      "|[31.5261978982398...|  409.0945261923378|\n",
      "|[31.5316044825729...| 436.51560572936256|\n",
      "+--------------------+-------------------+\n",
      "only showing top 20 rows\n",
      "\n"
     ]
    }
   ],
   "source": [
    "# Selecionando Dados finais\n",
    "final_data = output.select('features', 'Yearly Amount Spent')\n",
    "\n",
    "# Separando entre test e treino\n",
    "train_data, test_data  = final_data.randomSplit([0.7,0.3])\n",
    "\n",
    "# Visualizando Treino\n",
    "train_data.show()"
   ]
  },
  {
   "cell_type": "markdown",
   "id": "92312480",
   "metadata": {},
   "source": [
    "### Descrevendo treino e teste"
   ]
  },
  {
   "cell_type": "code",
   "execution_count": 10,
   "id": "5561ac8a",
   "metadata": {},
   "outputs": [
    {
     "name": "stdout",
     "output_type": "stream",
     "text": [
      "+-------+-------------------+\n",
      "|summary|Yearly Amount Spent|\n",
      "+-------+-------------------+\n",
      "|  count|                371|\n",
      "|   mean| 498.44218724779665|\n",
      "| stddev|   80.4365993550531|\n",
      "|    min| 256.67058229005585|\n",
      "|    max|  765.5184619388373|\n",
      "+-------+-------------------+\n",
      "\n"
     ]
    }
   ],
   "source": [
    "# Treino\n",
    "train_data.describe().show()"
   ]
  },
  {
   "cell_type": "code",
   "execution_count": 11,
   "id": "261a6a2c",
   "metadata": {},
   "outputs": [
    {
     "name": "stdout",
     "output_type": "stream",
     "text": [
      "+-------+-------------------+\n",
      "|summary|Yearly Amount Spent|\n",
      "+-------+-------------------+\n",
      "|  count|                129|\n",
      "|   mean| 501.82145473149524|\n",
      "| stddev|  76.24570653513717|\n",
      "|    min|   266.086340948469|\n",
      "|    max|  712.3963268096637|\n",
      "+-------+-------------------+\n",
      "\n"
     ]
    }
   ],
   "source": [
    "test_data.describe().show()"
   ]
  },
  {
   "cell_type": "markdown",
   "id": "c57ad2e0",
   "metadata": {},
   "source": [
    "### Modelo"
   ]
  },
  {
   "cell_type": "code",
   "execution_count": 12,
   "id": "f6db7482",
   "metadata": {},
   "outputs": [
    {
     "name": "stderr",
     "output_type": "stream",
     "text": [
      "22/05/16 17:28:36 WARN Instrumentation: [495a13cb] regParam is zero, which might cause numerical instability and overfitting.\n",
      "22/05/16 17:28:36 WARN InstanceBuilder$NativeBLAS: Failed to load implementation from:dev.ludovic.netlib.blas.JNIBLAS\n",
      "22/05/16 17:28:36 WARN InstanceBuilder$NativeBLAS: Failed to load implementation from:dev.ludovic.netlib.blas.ForeignLinkerBLAS\n",
      "22/05/16 17:28:36 WARN InstanceBuilder$NativeLAPACK: Failed to load implementation from:dev.ludovic.netlib.lapack.JNILAPACK\n"
     ]
    }
   ],
   "source": [
    "# Caracterizando o modelo\n",
    "lr = LinearRegression(labelCol= 'Yearly Amount Spent')\n",
    "\n",
    "# Fitting model aos dados treinados\n",
    "lr_Model = lr.fit(train_data)"
   ]
  },
  {
   "cell_type": "code",
   "execution_count": 13,
   "id": "3d10c9e3",
   "metadata": {},
   "outputs": [
    {
     "data": {
      "text/plain": [
       "DenseVector([25.8379, 38.5926, 0.304, 61.2026])"
      ]
     },
     "execution_count": 13,
     "metadata": {},
     "output_type": "execute_result"
    }
   ],
   "source": [
    "# Coeficientes\n",
    "lr_Model.coefficients"
   ]
  },
  {
   "cell_type": "code",
   "execution_count": 14,
   "id": "4bd74b53",
   "metadata": {},
   "outputs": [
    {
     "data": {
      "text/plain": [
       "-1047.1294360114869"
      ]
     },
     "execution_count": 14,
     "metadata": {},
     "output_type": "execute_result"
    }
   ],
   "source": [
    "# Intercepto\n",
    "lr_Model.intercept"
   ]
  },
  {
   "cell_type": "markdown",
   "id": "435c20df",
   "metadata": {},
   "source": [
    "### Avaliando o modelo"
   ]
  },
  {
   "cell_type": "code",
   "execution_count": 15,
   "id": "2d77e872",
   "metadata": {},
   "outputs": [],
   "source": [
    "# Checando ajuste\n",
    "test_results = lr_Model.evaluate(test_data)"
   ]
  },
  {
   "cell_type": "code",
   "execution_count": 16,
   "id": "854bb547",
   "metadata": {},
   "outputs": [
    {
     "name": "stdout",
     "output_type": "stream",
     "text": [
      "+-------------------+\n",
      "|          residuals|\n",
      "+-------------------+\n",
      "|-12.320928886310298|\n",
      "| -17.99151286538256|\n",
      "|  6.909088321016043|\n",
      "| -6.865788178556386|\n",
      "|  9.579149907186093|\n",
      "|-1.2535191464459103|\n",
      "|  2.624642445875338|\n",
      "| 18.973997006305183|\n",
      "| 3.9531909440153186|\n",
      "| -5.087349809598891|\n",
      "| -5.213880513291372|\n",
      "|-17.390715757553153|\n",
      "| -13.99198928312876|\n",
      "| -6.451853198585127|\n",
      "|  2.429155732480069|\n",
      "| -4.272659109258939|\n",
      "|  7.226152160498657|\n",
      "|-2.5771052536251773|\n",
      "| -6.179210799073132|\n",
      "| -2.611593723638805|\n",
      "+-------------------+\n",
      "only showing top 20 rows\n",
      "\n"
     ]
    },
    {
     "name": "stderr",
     "output_type": "stream",
     "text": [
      "/home/macaubas/spark-3.2.1-bin-hadoop3.2/python/pyspark/sql/context.py:125: FutureWarning: Deprecated in 3.0.0. Use SparkSession.builder.getOrCreate() instead.\n",
      "  warnings.warn(\n"
     ]
    }
   ],
   "source": [
    "# Residuals\n",
    "test_results.residuals.show()"
   ]
  },
  {
   "cell_type": "code",
   "execution_count": 17,
   "id": "07a666db",
   "metadata": {},
   "outputs": [
    {
     "data": {
      "text/plain": [
       "0.9842389491069861"
      ]
     },
     "execution_count": 17,
     "metadata": {},
     "output_type": "execute_result"
    }
   ],
   "source": [
    "# R2\n",
    "test_results.r2"
   ]
  },
  {
   "cell_type": "code",
   "execution_count": 18,
   "id": "c5446f0f",
   "metadata": {},
   "outputs": [
    {
     "data": {
      "text/plain": [
       "9.53494316222058"
      ]
     },
     "execution_count": 18,
     "metadata": {},
     "output_type": "execute_result"
    }
   ],
   "source": [
    "# RMSE\n",
    "test_results.rootMeanSquaredError"
   ]
  },
  {
   "cell_type": "markdown",
   "id": "a5af9884",
   "metadata": {},
   "source": [
    "### Deploying model - apenas features\n",
    "\n",
    "\n",
    "Baseados nas características, qual a previsão? "
   ]
  },
  {
   "cell_type": "code",
   "execution_count": 19,
   "id": "b6385611",
   "metadata": {},
   "outputs": [
    {
     "name": "stdout",
     "output_type": "stream",
     "text": [
      "+--------------------+\n",
      "|            features|\n",
      "+--------------------+\n",
      "|[30.3931845423455...|\n",
      "|[30.8162006488763...|\n",
      "|[30.9716756438877...|\n",
      "|[31.1280900496166...|\n",
      "|[31.1695067987115...|\n",
      "|[31.2606468698795...|\n",
      "|[31.3091926408918...|\n",
      "|[31.3123495994443...|\n",
      "|[31.3584771924370...|\n",
      "|[31.5147378578019...|\n",
      "|[31.5171218025062...|\n",
      "|[31.5702008293202...|\n",
      "|[31.5741380228732...|\n",
      "|[31.7207699002873...|\n",
      "|[31.7366356860502...|\n",
      "|[31.8124825597242...|\n",
      "|[31.8209982016720...|\n",
      "|[31.8530748017465...|\n",
      "|[31.8745516945853...|\n",
      "|[31.9120759292006...|\n",
      "+--------------------+\n",
      "only showing top 20 rows\n",
      "\n"
     ]
    }
   ],
   "source": [
    "unlabeled_data = test_data.select('features')\n",
    "\n",
    "unlabeled_data.show()"
   ]
  },
  {
   "cell_type": "code",
   "execution_count": 20,
   "id": "c32b4241",
   "metadata": {},
   "outputs": [
    {
     "name": "stdout",
     "output_type": "stream",
     "text": [
      "+--------------------+------------------+\n",
      "|            features|        prediction|\n",
      "+--------------------+------------------+\n",
      "|[30.3931845423455...| 332.2497986895039|\n",
      "|[30.8162006488763...|284.07785381385156|\n",
      "|[30.9716756438877...| 487.7295214358767|\n",
      "|[31.1280900496166...|  564.118474925611|\n",
      "|[31.1695067987115...| 417.7773808951067|\n",
      "|[31.2606468698795...| 422.5801504033973|\n",
      "|[31.3091926408918...| 430.0960753940583|\n",
      "|[31.3123495994443...|444.61742102163544|\n",
      "|[31.3584771924370...| 491.2227595054601|\n",
      "|[31.5147378578019...| 494.8998378060603|\n",
      "|[31.5171218025062...| 281.1323011636771|\n",
      "|[31.5702008293202...|  563.336207898958|\n",
      "|[31.5741380228732...| 558.4012614437156|\n",
      "|[31.7207699002873...| 545.2267866766081|\n",
      "|[31.7366356860502...|494.50429052305185|\n",
      "|[31.8124825597242...|397.08300409305616|\n",
      "|[31.8209982016720...| 417.4491288527147|\n",
      "|[31.8530748017465...|461.86222871597715|\n",
      "|[31.8745516945853...| 398.4644550453406|\n",
      "|[31.9120759292006...| 390.1463100293465|\n",
      "+--------------------+------------------+\n",
      "only showing top 20 rows\n",
      "\n"
     ]
    }
   ],
   "source": [
    "predictions = lr_Model.transform(unlabeled_data)\n",
    "\n",
    "predictions.show()"
   ]
  }
 ],
 "metadata": {
  "kernelspec": {
   "display_name": "Python 3 (ipykernel)",
   "language": "python",
   "name": "python3"
  },
  "language_info": {
   "codemirror_mode": {
    "name": "ipython",
    "version": 3
   },
   "file_extension": ".py",
   "mimetype": "text/x-python",
   "name": "python",
   "nbconvert_exporter": "python",
   "pygments_lexer": "ipython3",
   "version": "3.10.4"
  }
 },
 "nbformat": 4,
 "nbformat_minor": 5
}

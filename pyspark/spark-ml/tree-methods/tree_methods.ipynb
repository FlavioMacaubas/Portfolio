{
 "cells": [
  {
   "cell_type": "markdown",
   "id": "da2a910b",
   "metadata": {},
   "source": [
    "# Decision Trees e Random Forests"
   ]
  },
  {
   "cell_type": "code",
   "execution_count": 7,
   "id": "568e30ce",
   "metadata": {},
   "outputs": [
    {
     "name": "stderr",
     "output_type": "stream",
     "text": [
      "22/05/19 15:25:16 WARN Utils: Your hostname, macaubas-VirtualBox resolves to a loopback address: 127.0.1.1; using 10.0.2.15 instead (on interface enp0s3)\n",
      "22/05/19 15:25:16 WARN Utils: Set SPARK_LOCAL_IP if you need to bind to another address\n",
      "WARNING: An illegal reflective access operation has occurred\n",
      "WARNING: Illegal reflective access by org.apache.spark.unsafe.Platform (file:/home/macaubas/spark-3.2.1-bin-hadoop3.2/jars/spark-unsafe_2.12-3.2.1.jar) to constructor java.nio.DirectByteBuffer(long,int)\n",
      "WARNING: Please consider reporting this to the maintainers of org.apache.spark.unsafe.Platform\n",
      "WARNING: Use --illegal-access=warn to enable warnings of further illegal reflective access operations\n",
      "WARNING: All illegal access operations will be denied in a future release\n",
      "Using Spark's default log4j profile: org/apache/spark/log4j-defaults.properties\n",
      "Setting default log level to \"WARN\".\n",
      "To adjust logging level use sc.setLogLevel(newLevel). For SparkR, use setLogLevel(newLevel).\n",
      "22/05/19 15:25:17 WARN NativeCodeLoader: Unable to load native-hadoop library for your platform... using builtin-java classes where applicable\n"
     ]
    }
   ],
   "source": [
    "import findspark\n",
    "findspark.init('/home/macaubas/spark-3.2.1-bin-hadoop3.2')\n",
    "import pyspark\n",
    "from pyspark.sql import SparkSession\n",
    "\n",
    "spark = SparkSession.builder.appName('tree').getOrCreate()"
   ]
  },
  {
   "cell_type": "markdown",
   "id": "88b99077",
   "metadata": {},
   "source": [
    "## Imports"
   ]
  },
  {
   "cell_type": "code",
   "execution_count": 28,
   "id": "74a33a9e",
   "metadata": {},
   "outputs": [],
   "source": [
    "from pyspark.ml import Pipeline\n",
    "\n",
    "from pyspark.ml.classification import (RandomForestClassifier, GBTClassifier, DecisionTreeClassifier)\n",
    "\n",
    "from pyspark.ml.evaluation import BinaryClassificationEvaluator, MulticlassClassificationEvaluator\n",
    "\n",
    "from pyspark.ml.feature import (VectorAssembler, StringIndexer)"
   ]
  },
  {
   "cell_type": "markdown",
   "id": "5cb55389",
   "metadata": {},
   "source": [
    "## Carregandos dados"
   ]
  },
  {
   "cell_type": "code",
   "execution_count": 8,
   "id": "65f5ee40",
   "metadata": {},
   "outputs": [
    {
     "name": "stdout",
     "output_type": "stream",
     "text": [
      "root\n",
      " |-- School: string (nullable = true)\n",
      " |-- Private: string (nullable = true)\n",
      " |-- Apps: integer (nullable = true)\n",
      " |-- Accept: integer (nullable = true)\n",
      " |-- Enroll: integer (nullable = true)\n",
      " |-- Top10perc: integer (nullable = true)\n",
      " |-- Top25perc: integer (nullable = true)\n",
      " |-- F_Undergrad: integer (nullable = true)\n",
      " |-- P_Undergrad: integer (nullable = true)\n",
      " |-- Outstate: integer (nullable = true)\n",
      " |-- Room_Board: integer (nullable = true)\n",
      " |-- Books: integer (nullable = true)\n",
      " |-- Personal: integer (nullable = true)\n",
      " |-- PhD: integer (nullable = true)\n",
      " |-- Terminal: integer (nullable = true)\n",
      " |-- S_F_Ratio: double (nullable = true)\n",
      " |-- perc_alumni: integer (nullable = true)\n",
      " |-- Expend: integer (nullable = true)\n",
      " |-- Grad_Rate: integer (nullable = true)\n",
      "\n"
     ]
    }
   ],
   "source": [
    "data = spark.read.csv('College.csv', inferSchema=True, header=True)\n",
    "\n",
    "data.printSchema()"
   ]
  },
  {
   "cell_type": "code",
   "execution_count": 10,
   "id": "c13c7728",
   "metadata": {},
   "outputs": [
    {
     "name": "stdout",
     "output_type": "stream",
     "text": [
      "Row(School='Abilene Christian University', Private='Yes', Apps=1660, Accept=1232, Enroll=721, Top10perc=23, Top25perc=52, F_Undergrad=2885, P_Undergrad=537, Outstate=7440, Room_Board=3300, Books=450, Personal=2200, PhD=70, Terminal=78, S_F_Ratio=18.1, perc_alumni=12, Expend=7041, Grad_Rate=60)\n",
      "\n",
      "\n",
      "Row(School='Adelphi University', Private='Yes', Apps=2186, Accept=1924, Enroll=512, Top10perc=16, Top25perc=29, F_Undergrad=2683, P_Undergrad=1227, Outstate=12280, Room_Board=6450, Books=750, Personal=1500, PhD=29, Terminal=30, S_F_Ratio=12.2, perc_alumni=16, Expend=10527, Grad_Rate=56)\n",
      "\n",
      "\n",
      "Row(School='Adrian College', Private='Yes', Apps=1428, Accept=1097, Enroll=336, Top10perc=22, Top25perc=50, F_Undergrad=1036, P_Undergrad=99, Outstate=11250, Room_Board=3750, Books=400, Personal=1165, PhD=53, Terminal=66, S_F_Ratio=12.9, perc_alumni=30, Expend=8735, Grad_Rate=54)\n",
      "\n",
      "\n",
      "Row(School='Agnes Scott College', Private='Yes', Apps=417, Accept=349, Enroll=137, Top10perc=60, Top25perc=89, F_Undergrad=510, P_Undergrad=63, Outstate=12960, Room_Board=5450, Books=450, Personal=875, PhD=92, Terminal=97, S_F_Ratio=7.7, perc_alumni=37, Expend=19016, Grad_Rate=59)\n",
      "\n",
      "\n",
      "Row(School='Alaska Pacific University', Private='Yes', Apps=193, Accept=146, Enroll=55, Top10perc=16, Top25perc=44, F_Undergrad=249, P_Undergrad=869, Outstate=7560, Room_Board=4120, Books=800, Personal=1500, PhD=76, Terminal=72, S_F_Ratio=11.9, perc_alumni=2, Expend=10922, Grad_Rate=15)\n",
      "\n",
      "\n"
     ]
    }
   ],
   "source": [
    "for e in data.head(5):\n",
    "    print(e)\n",
    "    print('\\n')"
   ]
  },
  {
   "cell_type": "markdown",
   "id": "d920c59a",
   "metadata": {},
   "source": [
    "## Formatando os dados"
   ]
  },
  {
   "cell_type": "code",
   "execution_count": 12,
   "id": "e9362791",
   "metadata": {},
   "outputs": [
    {
     "data": {
      "text/plain": [
       "['School',\n",
       " 'Private',\n",
       " 'Apps',\n",
       " 'Accept',\n",
       " 'Enroll',\n",
       " 'Top10perc',\n",
       " 'Top25perc',\n",
       " 'F_Undergrad',\n",
       " 'P_Undergrad',\n",
       " 'Outstate',\n",
       " 'Room_Board',\n",
       " 'Books',\n",
       " 'Personal',\n",
       " 'PhD',\n",
       " 'Terminal',\n",
       " 'S_F_Ratio',\n",
       " 'perc_alumni',\n",
       " 'Expend',\n",
       " 'Grad_Rate']"
      ]
     },
     "execution_count": 12,
     "metadata": {},
     "output_type": "execute_result"
    }
   ],
   "source": [
    "data.columns"
   ]
  },
  {
   "cell_type": "code",
   "execution_count": 13,
   "id": "8eea4043",
   "metadata": {},
   "outputs": [],
   "source": [
    "# Selecionando características de interesse\n",
    "assembler = VectorAssembler(inputCols = ['Apps',\n",
    "                                         'Accept',\n",
    "                                         'Enroll',\n",
    "                                         'Top10perc',\n",
    "                                         'Top25perc',\n",
    "                                         'F_Undergrad',\n",
    "                                         'P_Undergrad',\n",
    "                                         'Outstate',\n",
    "                                         'Room_Board',\n",
    "                                         'Books',\n",
    "                                         'Personal',\n",
    "                                         'PhD',\n",
    "                                         'Terminal',\n",
    "                                         'S_F_Ratio',\n",
    "                                         'perc_alumni',\n",
    "                                         'Expend',\n",
    "                                         'Grad_Rate'],\n",
    "                           outputCol='features')"
   ]
  },
  {
   "cell_type": "code",
   "execution_count": 14,
   "id": "52f42741",
   "metadata": {},
   "outputs": [],
   "source": [
    "output = assembler.transform(data)"
   ]
  },
  {
   "cell_type": "code",
   "execution_count": 15,
   "id": "4d6e1851",
   "metadata": {},
   "outputs": [
    {
     "name": "stdout",
     "output_type": "stream",
     "text": [
      "root\n",
      " |-- School: string (nullable = true)\n",
      " |-- Private: string (nullable = true)\n",
      " |-- Apps: integer (nullable = true)\n",
      " |-- Accept: integer (nullable = true)\n",
      " |-- Enroll: integer (nullable = true)\n",
      " |-- Top10perc: integer (nullable = true)\n",
      " |-- Top25perc: integer (nullable = true)\n",
      " |-- F_Undergrad: integer (nullable = true)\n",
      " |-- P_Undergrad: integer (nullable = true)\n",
      " |-- Outstate: integer (nullable = true)\n",
      " |-- Room_Board: integer (nullable = true)\n",
      " |-- Books: integer (nullable = true)\n",
      " |-- Personal: integer (nullable = true)\n",
      " |-- PhD: integer (nullable = true)\n",
      " |-- Terminal: integer (nullable = true)\n",
      " |-- S_F_Ratio: double (nullable = true)\n",
      " |-- perc_alumni: integer (nullable = true)\n",
      " |-- Expend: integer (nullable = true)\n",
      " |-- Grad_Rate: integer (nullable = true)\n",
      " |-- features: vector (nullable = true)\n",
      "\n"
     ]
    }
   ],
   "source": [
    "output.printSchema()"
   ]
  },
  {
   "cell_type": "markdown",
   "id": "71176a1e",
   "metadata": {},
   "source": [
    "## Stringer Indexer"
   ]
  },
  {
   "cell_type": "code",
   "execution_count": 17,
   "id": "7109c929",
   "metadata": {},
   "outputs": [],
   "source": [
    "indexer = StringIndexer(inputCol = \"Private\", outputCol='Private_Index')"
   ]
  },
  {
   "cell_type": "code",
   "execution_count": 18,
   "id": "bfed71ba",
   "metadata": {},
   "outputs": [
    {
     "name": "stderr",
     "output_type": "stream",
     "text": [
      "                                                                                \r"
     ]
    }
   ],
   "source": [
    "# Adicionando coluna indexada\n",
    "output_fixed = indexer.fit(output).transform(output)"
   ]
  },
  {
   "cell_type": "code",
   "execution_count": 19,
   "id": "88acb73e",
   "metadata": {},
   "outputs": [
    {
     "name": "stdout",
     "output_type": "stream",
     "text": [
      "root\n",
      " |-- School: string (nullable = true)\n",
      " |-- Private: string (nullable = true)\n",
      " |-- Apps: integer (nullable = true)\n",
      " |-- Accept: integer (nullable = true)\n",
      " |-- Enroll: integer (nullable = true)\n",
      " |-- Top10perc: integer (nullable = true)\n",
      " |-- Top25perc: integer (nullable = true)\n",
      " |-- F_Undergrad: integer (nullable = true)\n",
      " |-- P_Undergrad: integer (nullable = true)\n",
      " |-- Outstate: integer (nullable = true)\n",
      " |-- Room_Board: integer (nullable = true)\n",
      " |-- Books: integer (nullable = true)\n",
      " |-- Personal: integer (nullable = true)\n",
      " |-- PhD: integer (nullable = true)\n",
      " |-- Terminal: integer (nullable = true)\n",
      " |-- S_F_Ratio: double (nullable = true)\n",
      " |-- perc_alumni: integer (nullable = true)\n",
      " |-- Expend: integer (nullable = true)\n",
      " |-- Grad_Rate: integer (nullable = true)\n",
      " |-- features: vector (nullable = true)\n",
      " |-- Private_Index: double (nullable = false)\n",
      "\n"
     ]
    }
   ],
   "source": [
    "output_fixed.printSchema()"
   ]
  },
  {
   "cell_type": "code",
   "execution_count": 21,
   "id": "1fe72939",
   "metadata": {},
   "outputs": [],
   "source": [
    "final_data = output_fixed.select('features', 'Private_Index')"
   ]
  },
  {
   "cell_type": "markdown",
   "id": "cf9a37dc",
   "metadata": {},
   "source": [
    "## Preparando dataset"
   ]
  },
  {
   "cell_type": "code",
   "execution_count": 22,
   "id": "684af8d6",
   "metadata": {},
   "outputs": [],
   "source": [
    "train_data, test_data = final_data.randomSplit([0.7,0.3])"
   ]
  },
  {
   "cell_type": "markdown",
   "id": "0efcde22",
   "metadata": {},
   "source": [
    "## Modelos"
   ]
  },
  {
   "cell_type": "code",
   "execution_count": 55,
   "id": "a679959f",
   "metadata": {},
   "outputs": [],
   "source": [
    "# Criando modelos\n",
    "dtc = DecisionTreeClassifier(labelCol='Private_Index', featuresCol='features')\n",
    "rfc_1 = RandomForestClassifier(labelCol='Private_Index', featuresCol='features', numTrees=25)\n",
    "rfc_2 = RandomForestClassifier(labelCol='Private_Index', featuresCol='features', numTrees=100)\n",
    "rfc_3 = RandomForestClassifier(labelCol='Private_Index', featuresCol='features', numTrees=150)\n",
    "gbt_1 = GBTClassifier(labelCol='Private_Index', featuresCol='features', maxDepth=5)\n",
    "gbt_2 = GBTClassifier(labelCol='Private_Index', featuresCol='features', maxDepth=10)\n",
    "gbt_3 = GBTClassifier(labelCol='Private_Index', featuresCol='features', maxDepth=15)"
   ]
  },
  {
   "cell_type": "code",
   "execution_count": 56,
   "id": "d9ae4771",
   "metadata": {},
   "outputs": [],
   "source": [
    "# Fitting model\n",
    "dtc_model = dtc.fit(train_data)\n",
    "rfc_1_model = rfc_1.fit(train_data)\n",
    "rfc_2_model = rfc_2.fit(train_data)\n",
    "rfc_3_model = rfc_3.fit(train_data)\n",
    "gbt_1_model = gbt_1.fit(train_data)\n",
    "gbt_2_model = gbt_2.fit(train_data)\n",
    "gbt_3_model = gbt_3.fit(train_data)"
   ]
  },
  {
   "cell_type": "code",
   "execution_count": 57,
   "id": "c8690774",
   "metadata": {},
   "outputs": [],
   "source": [
    "# Previsões\n",
    "dtc_preds = dtc_model.transform(test_data)\n",
    "rfc_1_preds = rfc_1_model.transform(test_data)\n",
    "rfc_2_preds = rfc_2_model.transform(test_data)\n",
    "rfc_3_preds = rfc_3_model.transform(test_data)\n",
    "gbt_1_preds = gbt_1_model.transform(test_data)\n",
    "gbt_2_preds = gbt_2_model.transform(test_data)\n",
    "gbt_3_preds = gbt_3_model.transform(test_data)"
   ]
  },
  {
   "cell_type": "markdown",
   "id": "f0017057",
   "metadata": {},
   "source": [
    "## Avaliando"
   ]
  },
  {
   "cell_type": "markdown",
   "id": "b386a29b",
   "metadata": {},
   "source": [
    "### Binary Classification Evaluator"
   ]
  },
  {
   "cell_type": "code",
   "execution_count": 58,
   "id": "4a6b6b69",
   "metadata": {},
   "outputs": [],
   "source": [
    "my_binary_eval = BinaryClassificationEvaluator(labelCol='Private_Index')"
   ]
  },
  {
   "cell_type": "code",
   "execution_count": 59,
   "id": "8c7e13c8",
   "metadata": {},
   "outputs": [
    {
     "name": "stdout",
     "output_type": "stream",
     "text": [
      "DTC: 0.905\n",
      "RFC 25 Trees: 0.982\n",
      "RFC 100 Trees: 0.984\n",
      "RFC 150 Trees: 0.984\n"
     ]
    }
   ],
   "source": [
    "# DecisionTree e Random Forest possuem raw_prediction\n",
    "print(f\"DTC: {my_binary_eval.evaluate(dtc_preds):.3}\")\n",
    "print(f\"RFC 25 Trees: {my_binary_eval.evaluate(rfc_1_preds):.3}\")\n",
    "print(f\"RFC 100 Trees: {my_binary_eval.evaluate(rfc_2_preds):.3}\")\n",
    "print(f\"RFC 150 Trees: {my_binary_eval.evaluate(rfc_3_preds):.3}\")"
   ]
  },
  {
   "cell_type": "code",
   "execution_count": 60,
   "id": "5d3e10d4",
   "metadata": {},
   "outputs": [
    {
     "name": "stdout",
     "output_type": "stream",
     "text": [
      "GBT 5: 0.886\n",
      "GBT 10: 0.88\n",
      "GBT 15: 0.88\n"
     ]
    }
   ],
   "source": [
    "# Ajustando evaluator rawPredictionCol\n",
    "my_binary_eval2 = BinaryClassificationEvaluator(labelCol='Private_Index', rawPredictionCol='prediction')\n",
    "print(f\"GBT 5: {my_binary_eval2.evaluate(gbt_1_preds):.3}\")\n",
    "print(f\"GBT 10: {my_binary_eval2.evaluate(gbt_2_preds):.3}\")\n",
    "print(f\"GBT 15: {my_binary_eval2.evaluate(gbt_3_preds):.3}\")"
   ]
  },
  {
   "cell_type": "markdown",
   "id": "8d17cdd9",
   "metadata": {},
   "source": [
    "Mudar a profundidade máxima do GBT parece não melhorar o desempenho do modelo. Uma possível razão pra um performance pior do que seus pares é uma má parametrização do modelo. É possível melhorar o modelo GBT."
   ]
  },
  {
   "cell_type": "markdown",
   "id": "de7cd9e0",
   "metadata": {},
   "source": [
    "### Multi Classification Evaluator"
   ]
  },
  {
   "cell_type": "code",
   "execution_count": 62,
   "id": "ae2bf16c",
   "metadata": {},
   "outputs": [],
   "source": [
    "acc_eval = MulticlassClassificationEvaluator(labelCol='Private_Index', metricName='accuracy')"
   ]
  },
  {
   "cell_type": "code",
   "execution_count": 69,
   "id": "b462eb7f",
   "metadata": {},
   "outputs": [
    {
     "name": "stdout",
     "output_type": "stream",
     "text": [
      "DTC: 0.917\n",
      "RFC 25 Trees: 0.934\n",
      "RFC 100 Trees: 0.947\n",
      "RFC 150 Trees: 0.947\n",
      "GTB 5: 0.917\n",
      "GTB 10: 0.908\n",
      "GTB 15: 0.908\n"
     ]
    }
   ],
   "source": [
    "print(f\"DTC: {acc_eval.evaluate(dtc_preds):.3}\")\n",
    "print(f\"RFC 25 Trees: {acc_eval.evaluate(rfc_1_preds):.3}\")\n",
    "print(f\"RFC 100 Trees: {acc_eval.evaluate(rfc_2_preds):.3}\")\n",
    "print(f\"RFC 150 Trees: {acc_eval.evaluate(rfc_3_preds):.3}\")\n",
    "print(f\"GTB 5: {acc_eval.evaluate(gbt_1_preds):.3}\")\n",
    "print(f\"GTB 10: {acc_eval.evaluate(gbt_2_preds):.3}\")\n",
    "print(f\"GTB 15: {acc_eval.evaluate(gbt_3_preds):.3}\")"
   ]
  },
  {
   "cell_type": "markdown",
   "id": "1c229cb0",
   "metadata": {},
   "source": [
    "Decision Tree e Gradient Burst Tree possuem precisões similares para configurações default. GBT perde performance ao aumentar a profundidade máxima. Por sua vez, os modelos de RandomForest para 100 e 150 árvores performaram igualmente e foram os modelos mais precisos."
   ]
  }
 ],
 "metadata": {
  "kernelspec": {
   "display_name": "Python 3 (ipykernel)",
   "language": "python",
   "name": "python3"
  },
  "language_info": {
   "codemirror_mode": {
    "name": "ipython",
    "version": 3
   },
   "file_extension": ".py",
   "mimetype": "text/x-python",
   "name": "python",
   "nbconvert_exporter": "python",
   "pygments_lexer": "ipython3",
   "version": "3.10.4"
  }
 },
 "nbformat": 4,
 "nbformat_minor": 5
}

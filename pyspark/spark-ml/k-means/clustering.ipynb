{
 "cells": [
  {
   "cell_type": "markdown",
   "id": "83fe96f1",
   "metadata": {},
   "source": [
    "# K-means"
   ]
  },
  {
   "cell_type": "code",
   "execution_count": 1,
   "id": "7298782a",
   "metadata": {},
   "outputs": [
    {
     "name": "stderr",
     "output_type": "stream",
     "text": [
      "22/05/26 17:07:55 WARN Utils: Your hostname, macaubas-VirtualBox resolves to a loopback address: 127.0.1.1; using 10.0.2.15 instead (on interface enp0s3)\n",
      "22/05/26 17:07:55 WARN Utils: Set SPARK_LOCAL_IP if you need to bind to another address\n",
      "WARNING: An illegal reflective access operation has occurred\n",
      "WARNING: Illegal reflective access by org.apache.spark.unsafe.Platform (file:/home/macaubas/spark-3.2.1-bin-hadoop3.2/jars/spark-unsafe_2.12-3.2.1.jar) to constructor java.nio.DirectByteBuffer(long,int)\n",
      "WARNING: Please consider reporting this to the maintainers of org.apache.spark.unsafe.Platform\n",
      "WARNING: Use --illegal-access=warn to enable warnings of further illegal reflective access operations\n",
      "WARNING: All illegal access operations will be denied in a future release\n",
      "Using Spark's default log4j profile: org/apache/spark/log4j-defaults.properties\n",
      "Setting default log level to \"WARN\".\n",
      "To adjust logging level use sc.setLogLevel(newLevel). For SparkR, use setLogLevel(newLevel).\n",
      "22/05/26 17:07:57 WARN NativeCodeLoader: Unable to load native-hadoop library for your platform... using builtin-java classes where applicable\n"
     ]
    }
   ],
   "source": [
    "# Inicializando Spark\n",
    "import findspark\n",
    "findspark.init('/home/macaubas/spark-3.2.1-bin-hadoop3.2')\n",
    "import pyspark\n",
    "\n",
    "from pyspark.sql import SparkSession \n",
    "\n",
    "spark = SparkSession.builder.appName(\"clustering\").getOrCreate()"
   ]
  },
  {
   "cell_type": "code",
   "execution_count": 30,
   "id": "564429ac",
   "metadata": {},
   "outputs": [],
   "source": [
    "from pyspark.ml.clustering import KMeans\n",
    "from pyspark.ml.evaluation import ClusteringEvaluator\n",
    "from pyspark.ml.feature import VectorAssembler, StandardScaler"
   ]
  },
  {
   "cell_type": "markdown",
   "id": "2a357419",
   "metadata": {},
   "source": [
    "## Exemplo pyspark"
   ]
  },
  {
   "cell_type": "code",
   "execution_count": 2,
   "id": "d1fdb59f",
   "metadata": {},
   "outputs": [
    {
     "name": "stderr",
     "output_type": "stream",
     "text": [
      "22/05/26 17:09:29 WARN LibSVMFileFormat: 'numFeatures' option not specified, determining the number of features by going though the input. If you know the number in advance, please specify it via 'numFeatures' option to avoid the extra scan.\n",
      "                                                                                \r"
     ]
    },
    {
     "name": "stdout",
     "output_type": "stream",
     "text": [
      "+-----+--------------------+\n",
      "|label|            features|\n",
      "+-----+--------------------+\n",
      "|  0.0|           (3,[],[])|\n",
      "|  1.0|(3,[0,1,2],[0.1,0...|\n",
      "|  2.0|(3,[0,1,2],[0.2,0...|\n",
      "|  3.0|(3,[0,1,2],[9.0,9...|\n",
      "|  4.0|(3,[0,1,2],[9.1,9...|\n",
      "|  5.0|(3,[0,1,2],[9.2,9...|\n",
      "+-----+--------------------+\n",
      "\n"
     ]
    }
   ],
   "source": [
    "dataset = spark.read.format('libsvm').load('sample_kmeans_data.txt')\n",
    "\n",
    "dataset.show()"
   ]
  },
  {
   "cell_type": "code",
   "execution_count": 4,
   "id": "248dbadc",
   "metadata": {},
   "outputs": [
    {
     "name": "stdout",
     "output_type": "stream",
     "text": [
      "+--------------------+\n",
      "|            features|\n",
      "+--------------------+\n",
      "|           (3,[],[])|\n",
      "|(3,[0,1,2],[0.1,0...|\n",
      "|(3,[0,1,2],[0.2,0...|\n",
      "|(3,[0,1,2],[9.0,9...|\n",
      "|(3,[0,1,2],[9.1,9...|\n",
      "|(3,[0,1,2],[9.2,9...|\n",
      "+--------------------+\n",
      "\n"
     ]
    }
   ],
   "source": [
    "final_data = dataset.select('features')\n",
    "\n",
    "final_data.show()"
   ]
  },
  {
   "cell_type": "markdown",
   "id": "7a93b805",
   "metadata": {},
   "source": [
    "## Criando modelo"
   ]
  },
  {
   "cell_type": "code",
   "execution_count": 6,
   "id": "cbfdc8e3",
   "metadata": {},
   "outputs": [],
   "source": [
    "# 2 grupos com random seed 1\n",
    "kmeans = KMeans().setK(2).setSeed(1)"
   ]
  },
  {
   "cell_type": "code",
   "execution_count": 7,
   "id": "c3238cec",
   "metadata": {},
   "outputs": [],
   "source": [
    "# Fitting\n",
    "model = kmeans.fit(final_data)"
   ]
  },
  {
   "cell_type": "code",
   "execution_count": 13,
   "id": "2e86c952",
   "metadata": {},
   "outputs": [],
   "source": [
    "# Previsão\n",
    "prev = model.transform(final_data)"
   ]
  },
  {
   "cell_type": "markdown",
   "id": "dd47f652",
   "metadata": {},
   "source": [
    "## Avalliando"
   ]
  },
  {
   "cell_type": "code",
   "execution_count": 15,
   "id": "032e2ec0",
   "metadata": {},
   "outputs": [
    {
     "name": "stdout",
     "output_type": "stream",
     "text": [
      "0.9997530305375207\n"
     ]
    }
   ],
   "source": [
    "# Silhueta com distância euclidiana ao quadrado\n",
    "evaluator = ClusteringEvaluator()\n",
    "silhueta = evaluator.evaluate(prev)\n",
    "\n",
    "print(silhueta)"
   ]
  },
  {
   "cell_type": "code",
   "execution_count": 17,
   "id": "1cad6d61",
   "metadata": {},
   "outputs": [
    {
     "data": {
      "text/plain": [
       "[array([9.1, 9.1, 9.1]), array([0.1, 0.1, 0.1])]"
      ]
     },
     "execution_count": 17,
     "metadata": {},
     "output_type": "execute_result"
    }
   ],
   "source": [
    "# Centro dos grupos\n",
    "centers = model.clusterCenters()\n",
    "centers"
   ]
  },
  {
   "cell_type": "code",
   "execution_count": 18,
   "id": "ab8bd3a2",
   "metadata": {},
   "outputs": [
    {
     "name": "stdout",
     "output_type": "stream",
     "text": [
      "+--------------------+----------+\n",
      "|            features|prediction|\n",
      "+--------------------+----------+\n",
      "|           (3,[],[])|         1|\n",
      "|(3,[0,1,2],[0.1,0...|         1|\n",
      "|(3,[0,1,2],[0.2,0...|         1|\n",
      "|(3,[0,1,2],[9.0,9...|         0|\n",
      "|(3,[0,1,2],[9.1,9...|         0|\n",
      "|(3,[0,1,2],[9.2,9...|         0|\n",
      "+--------------------+----------+\n",
      "\n"
     ]
    }
   ],
   "source": [
    "prev.show()"
   ]
  },
  {
   "cell_type": "markdown",
   "id": "748d85c4",
   "metadata": {},
   "source": [
    "## Reaplicando o exemplo para 3 grupos"
   ]
  },
  {
   "cell_type": "code",
   "execution_count": 19,
   "id": "fec5fe64",
   "metadata": {},
   "outputs": [
    {
     "name": "stdout",
     "output_type": "stream",
     "text": [
      "0.6248737134600261\n"
     ]
    },
    {
     "data": {
      "text/plain": [
       "[array([9.1, 9.1, 9.1]), array([0.05, 0.05, 0.05]), array([0.2, 0.2, 0.2])]"
      ]
     },
     "execution_count": 19,
     "metadata": {},
     "output_type": "execute_result"
    }
   ],
   "source": [
    "# 2 grupos com random seed 1\n",
    "kmeans = KMeans().setK(3).setSeed(1)\n",
    "\n",
    "# Fitting\n",
    "model = kmeans.fit(final_data)\n",
    "\n",
    "# Previsão\n",
    "prev = model.transform(final_data)\n",
    "\n",
    "# Silhueta com distância euclidiana ao quadrado\n",
    "evaluator = ClusteringEvaluator()\n",
    "silhueta = evaluator.evaluate(prev)\n",
    "\n",
    "print(silhueta)\n",
    "\n",
    "# Centro dos grupos\n",
    "centers = model.clusterCenters()\n",
    "centers"
   ]
  },
  {
   "cell_type": "code",
   "execution_count": 20,
   "id": "96fbaa19",
   "metadata": {},
   "outputs": [
    {
     "name": "stdout",
     "output_type": "stream",
     "text": [
      "+--------------------+----------+\n",
      "|            features|prediction|\n",
      "+--------------------+----------+\n",
      "|           (3,[],[])|         1|\n",
      "|(3,[0,1,2],[0.1,0...|         1|\n",
      "|(3,[0,1,2],[0.2,0...|         2|\n",
      "|(3,[0,1,2],[9.0,9...|         0|\n",
      "|(3,[0,1,2],[9.1,9...|         0|\n",
      "|(3,[0,1,2],[9.2,9...|         0|\n",
      "+--------------------+----------+\n",
      "\n"
     ]
    }
   ],
   "source": [
    "prev.show()"
   ]
  },
  {
   "cell_type": "markdown",
   "id": "93bc8a0f",
   "metadata": {},
   "source": [
    "### A shilueta reduziu em decorrência de aumentar a quantidade de grupos\n",
    "\n",
    "-----------------------"
   ]
  },
  {
   "cell_type": "markdown",
   "id": "c421b4ed",
   "metadata": {},
   "source": [
    "## Exemplo prático\n",
    "\n",
    "Sabe-se que existem 3 grupos de sementes."
   ]
  },
  {
   "cell_type": "code",
   "execution_count": 21,
   "id": "e004abde",
   "metadata": {},
   "outputs": [
    {
     "name": "stdout",
     "output_type": "stream",
     "text": [
      "root\n",
      " |-- area: double (nullable = true)\n",
      " |-- perimeter: double (nullable = true)\n",
      " |-- compactness: double (nullable = true)\n",
      " |-- length_of_kernel: double (nullable = true)\n",
      " |-- width_of_kernel: double (nullable = true)\n",
      " |-- asymmetry_coefficient: double (nullable = true)\n",
      " |-- length_of_groove: double (nullable = true)\n",
      "\n"
     ]
    }
   ],
   "source": [
    "seeds = spark.read.csv('seeds_dataset.csv', header=True, inferSchema=True)\n",
    "\n",
    "seeds.printSchema()"
   ]
  },
  {
   "cell_type": "code",
   "execution_count": 22,
   "id": "d8d1333b",
   "metadata": {},
   "outputs": [
    {
     "name": "stdout",
     "output_type": "stream",
     "text": [
      "+-----+---------+-----------+------------------+------------------+---------------------+------------------+\n",
      "| area|perimeter|compactness|  length_of_kernel|   width_of_kernel|asymmetry_coefficient|  length_of_groove|\n",
      "+-----+---------+-----------+------------------+------------------+---------------------+------------------+\n",
      "|15.26|    14.84|      0.871|             5.763|             3.312|                2.221|              5.22|\n",
      "|14.88|    14.57|     0.8811| 5.553999999999999|             3.333|                1.018|             4.956|\n",
      "|14.29|    14.09|      0.905|             5.291|3.3369999999999997|                2.699|             4.825|\n",
      "|13.84|    13.94|     0.8955|             5.324|3.3789999999999996|                2.259|             4.805|\n",
      "|16.14|    14.99|     0.9034|5.6579999999999995|             3.562|                1.355|             5.175|\n",
      "|14.38|    14.21|     0.8951|             5.386|             3.312|   2.4619999999999997|             4.956|\n",
      "|14.69|    14.49|     0.8799|             5.563|             3.259|   3.5860000000000003| 5.218999999999999|\n",
      "|14.11|     14.1|     0.8911|              5.42|             3.302|                  2.7|               5.0|\n",
      "|16.63|    15.46|     0.8747|             6.053|             3.465|                 2.04| 5.877000000000001|\n",
      "|16.44|    15.25|      0.888|5.8839999999999995|             3.505|                1.969|5.5329999999999995|\n",
      "|15.26|    14.85|     0.8696|5.7139999999999995|             3.242|                4.543|             5.314|\n",
      "|14.03|    14.16|     0.8796|             5.438|             3.201|   1.7169999999999999|             5.001|\n",
      "|13.89|    14.02|      0.888|             5.439|             3.199|                3.986|             4.738|\n",
      "|13.78|    14.06|     0.8759|             5.479|             3.156|                3.136|             4.872|\n",
      "|13.74|    14.05|     0.8744|             5.482|             3.114|                2.932|             4.825|\n",
      "|14.59|    14.28|     0.8993|             5.351|             3.333|                4.185| 4.781000000000001|\n",
      "|13.99|    13.83|     0.9183|             5.119|             3.383|                5.234| 4.781000000000001|\n",
      "|15.69|    14.75|     0.9058|             5.527|             3.514|                1.599|             5.046|\n",
      "| 14.7|    14.21|     0.9153|             5.205|             3.466|                1.767|             4.649|\n",
      "|12.72|    13.57|     0.8686|             5.226|             3.049|                4.102|             4.914|\n",
      "+-----+---------+-----------+------------------+------------------+---------------------+------------------+\n",
      "only showing top 20 rows\n",
      "\n"
     ]
    }
   ],
   "source": [
    "# Visualizando base de dados das sementes\n",
    "seeds.show()"
   ]
  },
  {
   "cell_type": "code",
   "execution_count": 23,
   "id": "7a5ca6d2",
   "metadata": {},
   "outputs": [
    {
     "name": "stdout",
     "output_type": "stream",
     "text": [
      "+-------+------------------+------------------+--------------------+-------------------+------------------+---------------------+-------------------+\n",
      "|summary|              area|         perimeter|         compactness|   length_of_kernel|   width_of_kernel|asymmetry_coefficient|   length_of_groove|\n",
      "+-------+------------------+------------------+--------------------+-------------------+------------------+---------------------+-------------------+\n",
      "|  count|               210|               210|                 210|                210|               210|                  210|                210|\n",
      "|   mean|14.847523809523816|14.559285714285718|  0.8709985714285714|  5.628533333333335| 3.258604761904762|   3.7001999999999997|  5.408071428571429|\n",
      "| stddev|2.9096994306873647|1.3059587265640225|0.023629416583846364|0.44306347772644983|0.3777144449065867|   1.5035589702547392|0.49148049910240543|\n",
      "|    min|             10.59|             12.41|              0.8081|              4.899|              2.63|                0.765|              4.519|\n",
      "|    max|             21.18|             17.25|              0.9183|              6.675|             4.033|                8.456|               6.55|\n",
      "+-------+------------------+------------------+--------------------+-------------------+------------------+---------------------+-------------------+\n",
      "\n"
     ]
    }
   ],
   "source": [
    "# Estatística descritiva\n",
    "seeds.describe().show()"
   ]
  },
  {
   "cell_type": "code",
   "execution_count": 24,
   "id": "dc6f7627",
   "metadata": {},
   "outputs": [
    {
     "name": "stdout",
     "output_type": "stream",
     "text": [
      "Row(area=15.26, perimeter=14.84, compactness=0.871, length_of_kernel=5.763, width_of_kernel=3.312, asymmetry_coefficient=2.221, length_of_groove=5.22)\n",
      "\n",
      "\n",
      "Row(area=14.88, perimeter=14.57, compactness=0.8811, length_of_kernel=5.553999999999999, width_of_kernel=3.333, asymmetry_coefficient=1.018, length_of_groove=4.956)\n",
      "\n",
      "\n",
      "Row(area=14.29, perimeter=14.09, compactness=0.905, length_of_kernel=5.291, width_of_kernel=3.3369999999999997, asymmetry_coefficient=2.699, length_of_groove=4.825)\n",
      "\n",
      "\n",
      "Row(area=13.84, perimeter=13.94, compactness=0.8955, length_of_kernel=5.324, width_of_kernel=3.3789999999999996, asymmetry_coefficient=2.259, length_of_groove=4.805)\n",
      "\n",
      "\n",
      "Row(area=16.14, perimeter=14.99, compactness=0.9034, length_of_kernel=5.6579999999999995, width_of_kernel=3.562, asymmetry_coefficient=1.355, length_of_groove=5.175)\n",
      "\n",
      "\n"
     ]
    }
   ],
   "source": [
    "for e in seeds.head(5):\n",
    "    print(e)\n",
    "    print('\\n')"
   ]
  },
  {
   "cell_type": "markdown",
   "id": "841ba904",
   "metadata": {},
   "source": [
    "## Preparando os dados"
   ]
  },
  {
   "cell_type": "code",
   "execution_count": 26,
   "id": "de0efa67",
   "metadata": {},
   "outputs": [
    {
     "data": {
      "text/plain": [
       "['area',\n",
       " 'perimeter',\n",
       " 'compactness',\n",
       " 'length_of_kernel',\n",
       " 'width_of_kernel',\n",
       " 'asymmetry_coefficient',\n",
       " 'length_of_groove']"
      ]
     },
     "execution_count": 26,
     "metadata": {},
     "output_type": "execute_result"
    }
   ],
   "source": [
    "seeds.columns"
   ]
  },
  {
   "cell_type": "code",
   "execution_count": 29,
   "id": "14835240",
   "metadata": {},
   "outputs": [
    {
     "name": "stdout",
     "output_type": "stream",
     "text": [
      "+--------------------+\n",
      "|            features|\n",
      "+--------------------+\n",
      "|[15.26,14.84,0.87...|\n",
      "|[14.88,14.57,0.88...|\n",
      "|[14.29,14.09,0.90...|\n",
      "|[13.84,13.94,0.89...|\n",
      "|[16.14,14.99,0.90...|\n",
      "|[14.38,14.21,0.89...|\n",
      "|[14.69,14.49,0.87...|\n",
      "|[14.11,14.1,0.891...|\n",
      "|[16.63,15.46,0.87...|\n",
      "|[16.44,15.25,0.88...|\n",
      "|[15.26,14.85,0.86...|\n",
      "|[14.03,14.16,0.87...|\n",
      "|[13.89,14.02,0.88...|\n",
      "|[13.78,14.06,0.87...|\n",
      "|[13.74,14.05,0.87...|\n",
      "|[14.59,14.28,0.89...|\n",
      "|[13.99,13.83,0.91...|\n",
      "|[15.69,14.75,0.90...|\n",
      "|[14.7,14.21,0.915...|\n",
      "|[12.72,13.57,0.86...|\n",
      "+--------------------+\n",
      "only showing top 20 rows\n",
      "\n"
     ]
    }
   ],
   "source": [
    "# Criando assembler\n",
    "assembler = VectorAssembler(inputCols=seeds.columns,\n",
    "                           outputCol='features')\n",
    "\n",
    "# Dados finais\n",
    "seeds_final = assembler.transform(seeds)\n",
    "seeds_final = seeds_final.select('features')\n",
    "\n",
    "seeds_final.show()"
   ]
  },
  {
   "cell_type": "markdown",
   "id": "02178793",
   "metadata": {},
   "source": [
    "## Normalizando os dados para mesma escala\n",
    "\n",
    "Kmeans é sensível a escalas diferentes"
   ]
  },
  {
   "cell_type": "code",
   "execution_count": 31,
   "id": "684f1464",
   "metadata": {},
   "outputs": [],
   "source": [
    "scaler = StandardScaler(inputCol='features',\n",
    "                       outputCol='scaledFeatures')"
   ]
  },
  {
   "cell_type": "code",
   "execution_count": 54,
   "id": "01e72cda",
   "metadata": {},
   "outputs": [
    {
     "name": "stdout",
     "output_type": "stream",
     "text": [
      "+--------------------+--------------------+\n",
      "|            features|      scaledFeatures|\n",
      "+--------------------+--------------------+\n",
      "|[15.26,14.84,0.87...|[5.24452795332028...|\n",
      "|[14.88,14.57,0.88...|[5.11393027165175...|\n",
      "|[14.29,14.09,0.90...|[4.91116018695588...|\n",
      "|[13.84,13.94,0.89...|[4.75650503761158...|\n",
      "|[16.14,14.99,0.90...|[5.54696468981581...|\n",
      "|[14.38,14.21,0.89...|[4.94209121682475...|\n",
      "|[14.69,14.49,0.87...|[5.04863143081749...|\n",
      "|[14.11,14.1,0.891...|[4.84929812721816...|\n",
      "|[16.63,15.46,0.87...|[5.71536696354628...|\n",
      "|[16.44,15.25,0.88...|[5.65006812271202...|\n",
      "|[15.26,14.85,0.86...|[5.24452795332028...|\n",
      "|[14.03,14.16,0.87...|[4.82180387844584...|\n",
      "|[13.89,14.02,0.88...|[4.77368894309428...|\n",
      "|[13.78,14.06,0.87...|[4.73588435103234...|\n",
      "|[13.74,14.05,0.87...|[4.72213722664617...|\n",
      "|[14.59,14.28,0.89...|[5.01426361985209...|\n",
      "|[13.99,13.83,0.91...|[4.80805675405968...|\n",
      "|[15.69,14.75,0.90...|[5.39230954047151...|\n",
      "|[14.7,14.21,0.915...|[5.05206821191403...|\n",
      "|[12.72,13.57,0.86...|[4.37158555479908...|\n",
      "+--------------------+--------------------+\n",
      "only showing top 20 rows\n",
      "\n"
     ]
    }
   ],
   "source": [
    "# Fitting\n",
    "scaler_model = scaler.fit(seeds_final)\n",
    "\n",
    "# Finalizando dados finais\n",
    "final_data = scaler_model.transform(seeds_final)\n",
    "\n",
    "final_data.show()\n"
   ]
  },
  {
   "cell_type": "code",
   "execution_count": 55,
   "id": "dda0cc37",
   "metadata": {},
   "outputs": [
    {
     "data": {
      "text/plain": [
       "[Row(features=DenseVector([15.26, 14.84, 0.871, 5.763, 3.312, 2.221, 5.22]), scaledFeatures=DenseVector([5.2445, 11.3633, 36.8608, 13.0072, 8.7685, 1.4772, 10.621]))]"
      ]
     },
     "execution_count": 55,
     "metadata": {},
     "output_type": "execute_result"
    }
   ],
   "source": [
    "final_data.head(1)"
   ]
  },
  {
   "cell_type": "markdown",
   "id": "31029d4b",
   "metadata": {},
   "source": [
    "## Criando o modelo"
   ]
  },
  {
   "cell_type": "code",
   "execution_count": 58,
   "id": "f27b97b6",
   "metadata": {},
   "outputs": [],
   "source": [
    "kmeans = KMeans(k = 3,featuresCol = 'scaledFeatures').setSeed(1)"
   ]
  },
  {
   "cell_type": "code",
   "execution_count": 59,
   "id": "6a29076a",
   "metadata": {},
   "outputs": [],
   "source": [
    "model = kmeans.fit(final_data)"
   ]
  },
  {
   "cell_type": "code",
   "execution_count": 60,
   "id": "7bbb300a",
   "metadata": {},
   "outputs": [],
   "source": [
    "prev = model.transform(final_data)"
   ]
  },
  {
   "cell_type": "code",
   "execution_count": 61,
   "id": "e99d2818",
   "metadata": {},
   "outputs": [
    {
     "name": "stdout",
     "output_type": "stream",
     "text": [
      "0.630000103338996\n",
      "\n",
      "Centros dos clusters:\n",
      "[array([ 4.96198582, 10.97871333, 37.30930808, 12.44647267,  8.62880781,\n",
      "        1.80061978, 10.41913733]), array([ 4.07497225, 10.14410142, 35.89816849, 11.80812742,  7.54416916,\n",
      "        3.15410901, 10.38031464]), array([ 6.35645488, 12.40730852, 37.41990178, 13.93860446,  9.7892399 ,\n",
      "        2.41585013, 12.29286107])]\n"
     ]
    }
   ],
   "source": [
    "# Silhueta com distância euclidiana ao quadrado\n",
    "evaluator = ClusteringEvaluator()\n",
    "silhueta = evaluator.evaluate(prev)\n",
    "\n",
    "print(silhueta)\n",
    "\n",
    "# Centro dos grupos\n",
    "print('\\nCentros dos clusters:')\n",
    "centers = model.clusterCenters()\n",
    "print(centers)"
   ]
  },
  {
   "cell_type": "code",
   "execution_count": 62,
   "id": "57108cb1",
   "metadata": {},
   "outputs": [
    {
     "name": "stdout",
     "output_type": "stream",
     "text": [
      "+--------------------+--------------------+----------+\n",
      "|            features|      scaledFeatures|prediction|\n",
      "+--------------------+--------------------+----------+\n",
      "|[15.26,14.84,0.87...|[5.24452795332028...|         0|\n",
      "|[14.88,14.57,0.88...|[5.11393027165175...|         0|\n",
      "|[14.29,14.09,0.90...|[4.91116018695588...|         0|\n",
      "|[13.84,13.94,0.89...|[4.75650503761158...|         0|\n",
      "|[16.14,14.99,0.90...|[5.54696468981581...|         0|\n",
      "|[14.38,14.21,0.89...|[4.94209121682475...|         0|\n",
      "|[14.69,14.49,0.87...|[5.04863143081749...|         0|\n",
      "|[14.11,14.1,0.891...|[4.84929812721816...|         0|\n",
      "|[16.63,15.46,0.87...|[5.71536696354628...|         2|\n",
      "|[16.44,15.25,0.88...|[5.65006812271202...|         0|\n",
      "|[15.26,14.85,0.86...|[5.24452795332028...|         0|\n",
      "|[14.03,14.16,0.87...|[4.82180387844584...|         0|\n",
      "|[13.89,14.02,0.88...|[4.77368894309428...|         0|\n",
      "|[13.78,14.06,0.87...|[4.73588435103234...|         0|\n",
      "|[13.74,14.05,0.87...|[4.72213722664617...|         0|\n",
      "|[14.59,14.28,0.89...|[5.01426361985209...|         0|\n",
      "|[13.99,13.83,0.91...|[4.80805675405968...|         0|\n",
      "|[15.69,14.75,0.90...|[5.39230954047151...|         0|\n",
      "|[14.7,14.21,0.915...|[5.05206821191403...|         0|\n",
      "|[12.72,13.57,0.86...|[4.37158555479908...|         1|\n",
      "+--------------------+--------------------+----------+\n",
      "only showing top 20 rows\n",
      "\n"
     ]
    }
   ],
   "source": [
    "prev.show()"
   ]
  }
 ],
 "metadata": {
  "kernelspec": {
   "display_name": "Python 3 (ipykernel)",
   "language": "python",
   "name": "python3"
  },
  "language_info": {
   "codemirror_mode": {
    "name": "ipython",
    "version": 3
   },
   "file_extension": ".py",
   "mimetype": "text/x-python",
   "name": "python",
   "nbconvert_exporter": "python",
   "pygments_lexer": "ipython3",
   "version": "3.10.4"
  }
 },
 "nbformat": 4,
 "nbformat_minor": 5
}

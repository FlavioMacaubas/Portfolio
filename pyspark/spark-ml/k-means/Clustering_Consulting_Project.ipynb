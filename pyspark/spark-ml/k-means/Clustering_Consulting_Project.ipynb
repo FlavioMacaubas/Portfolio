{
 "cells": [
  {
   "cell_type": "markdown",
   "metadata": {},
   "source": [
    "# Clustering Consulting Project \n",
    "\n",
    "A large technology firm needs your help, they've been hacked! Luckily their forensic engineers have grabbed valuable data about the hacks, including information like session time,locations, wpm typing speed, etc. The forensic engineer relates to you what she has been able to figure out so far, she has been able to grab meta data of each session that the hackers used to connect to their servers. These are the features of the data:\n",
    "\n",
    "* 'Session_Connection_Time': How long the session lasted in minutes\n",
    "* 'Bytes Transferred': Number of MB transferred during session\n",
    "* 'Kali_Trace_Used': Indicates if the hacker was using Kali Linux\n",
    "* 'Servers_Corrupted': Number of server corrupted during the attack\n",
    "* 'Pages_Corrupted': Number of pages illegally accessed\n",
    "* 'Location': Location attack came from (Probably useless because the hackers used VPNs)\n",
    "* 'WPM_Typing_Speed': Their estimated typing speed based on session logs.\n",
    "\n",
    "\n",
    "The technology firm has 3 potential hackers that perpetrated the attack. Their certain of the first two hackers but they aren't very sure if the third hacker was involved or not. They have requested your help! Can you help figure out whether or not the third suspect had anything to do with the attacks, or was it just two hackers? It's probably not possible to know for sure, but maybe what you've just learned about Clustering can help!\n",
    "\n",
    "**One last key fact, the forensic engineer knows that the hackers trade off attacks. Meaning they should each have roughly the same amount of attacks. For example if there were 100 total attacks, then in a 2 hacker situation each should have about 50 hacks, in a three hacker situation each would have about 33 hacks. The engineer believes this is the key element to solving this, but doesn't know how to distinguish this unlabeled data into groups of hackers.**"
   ]
  },
  {
   "cell_type": "code",
   "execution_count": 36,
   "metadata": {},
   "outputs": [],
   "source": [
    "# Inicializando Spark\n",
    "import findspark\n",
    "findspark.init('/home/macaubas/spark-3.2.1-bin-hadoop3.2')\n",
    "import pyspark\n",
    "\n",
    "from pyspark.sql import SparkSession \n",
    "\n",
    "spark = SparkSession.builder.appName(\"clustering\").getOrCreate()"
   ]
  },
  {
   "cell_type": "code",
   "execution_count": 2,
   "metadata": {},
   "outputs": [],
   "source": [
    "from pyspark.ml.clustering import KMeans\n",
    "from pyspark.ml.evaluation import ClusteringEvaluator\n",
    "from pyspark.ml.feature import VectorAssembler, StandardScaler"
   ]
  },
  {
   "cell_type": "markdown",
   "metadata": {},
   "source": [
    "## Carregando os dados"
   ]
  },
  {
   "cell_type": "code",
   "execution_count": 3,
   "metadata": {},
   "outputs": [
    {
     "name": "stdout",
     "output_type": "stream",
     "text": [
      "root\n",
      " |-- Session_Connection_Time: double (nullable = true)\n",
      " |-- Bytes Transferred: double (nullable = true)\n",
      " |-- Kali_Trace_Used: integer (nullable = true)\n",
      " |-- Servers_Corrupted: double (nullable = true)\n",
      " |-- Pages_Corrupted: double (nullable = true)\n",
      " |-- Location: string (nullable = true)\n",
      " |-- WPM_Typing_Speed: double (nullable = true)\n",
      "\n"
     ]
    }
   ],
   "source": [
    "hackers = spark.read.csv('hack_data.csv', header=True, inferSchema=True)\n",
    "\n",
    "hackers.printSchema()"
   ]
  },
  {
   "cell_type": "code",
   "execution_count": 5,
   "metadata": {},
   "outputs": [
    {
     "name": "stdout",
     "output_type": "stream",
     "text": [
      "Row(Session_Connection_Time=8.0, Bytes Transferred=391.09, Kali_Trace_Used=1, Servers_Corrupted=2.96, Pages_Corrupted=7.0, Location='Slovenia', WPM_Typing_Speed=72.37)\n",
      "\n",
      "\n",
      "Row(Session_Connection_Time=20.0, Bytes Transferred=720.99, Kali_Trace_Used=0, Servers_Corrupted=3.04, Pages_Corrupted=9.0, Location='British Virgin Islands', WPM_Typing_Speed=69.08)\n",
      "\n",
      "\n",
      "Row(Session_Connection_Time=31.0, Bytes Transferred=356.32, Kali_Trace_Used=1, Servers_Corrupted=3.71, Pages_Corrupted=8.0, Location='Tokelau', WPM_Typing_Speed=70.58)\n",
      "\n",
      "\n"
     ]
    }
   ],
   "source": [
    "for e in hackers.head(3):\n",
    "    print(e)\n",
    "    print('\\n')"
   ]
  },
  {
   "cell_type": "markdown",
   "metadata": {},
   "source": [
    "## Selecionando variáveis de interesse"
   ]
  },
  {
   "cell_type": "code",
   "execution_count": 6,
   "metadata": {},
   "outputs": [
    {
     "data": {
      "text/plain": [
       "['Session_Connection_Time',\n",
       " 'Bytes Transferred',\n",
       " 'Kali_Trace_Used',\n",
       " 'Servers_Corrupted',\n",
       " 'Pages_Corrupted',\n",
       " 'Location',\n",
       " 'WPM_Typing_Speed']"
      ]
     },
     "execution_count": 6,
     "metadata": {},
     "output_type": "execute_result"
    }
   ],
   "source": [
    "hackers.columns"
   ]
  },
  {
   "cell_type": "code",
   "execution_count": 7,
   "metadata": {},
   "outputs": [
    {
     "data": {
      "text/plain": [
       "['Session_Connection_Time',\n",
       " 'Bytes Transferred',\n",
       " 'Kali_Trace_Used',\n",
       " 'Servers_Corrupted',\n",
       " 'Pages_Corrupted',\n",
       " 'WPM_Typing_Speed']"
      ]
     },
     "execution_count": 7,
     "metadata": {},
     "output_type": "execute_result"
    }
   ],
   "source": [
    "col_interesse = [e for e in hackers.columns if e != 'Location']\n",
    "\n",
    "col_interesse"
   ]
  },
  {
   "cell_type": "code",
   "execution_count": 8,
   "metadata": {},
   "outputs": [
    {
     "name": "stdout",
     "output_type": "stream",
     "text": [
      "Row(Session_Connection_Time=8.0, Bytes Transferred=391.09, Kali_Trace_Used=1, Servers_Corrupted=2.96, Pages_Corrupted=7.0, WPM_Typing_Speed=72.37)\n",
      "\n",
      "\n",
      "Row(Session_Connection_Time=20.0, Bytes Transferred=720.99, Kali_Trace_Used=0, Servers_Corrupted=3.04, Pages_Corrupted=9.0, WPM_Typing_Speed=69.08)\n",
      "\n",
      "\n",
      "Row(Session_Connection_Time=31.0, Bytes Transferred=356.32, Kali_Trace_Used=1, Servers_Corrupted=3.71, Pages_Corrupted=8.0, WPM_Typing_Speed=70.58)\n",
      "\n",
      "\n"
     ]
    }
   ],
   "source": [
    "# Selecionando variaveis de interesse\n",
    "hackers = hackers.select(col_interesse)\n",
    "\n",
    "for e in hackers.head(3):\n",
    "    print(e)\n",
    "    print('\\n')"
   ]
  },
  {
   "cell_type": "markdown",
   "metadata": {},
   "source": [
    "## Assembling"
   ]
  },
  {
   "cell_type": "code",
   "execution_count": 10,
   "metadata": {},
   "outputs": [
    {
     "name": "stdout",
     "output_type": "stream",
     "text": [
      "root\n",
      " |-- Session_Connection_Time: double (nullable = true)\n",
      " |-- Bytes Transferred: double (nullable = true)\n",
      " |-- Kali_Trace_Used: integer (nullable = true)\n",
      " |-- Servers_Corrupted: double (nullable = true)\n",
      " |-- Pages_Corrupted: double (nullable = true)\n",
      " |-- WPM_Typing_Speed: double (nullable = true)\n",
      " |-- features: vector (nullable = true)\n",
      "\n"
     ]
    }
   ],
   "source": [
    "assembler = VectorAssembler(inputCols=hackers.columns,\n",
    "                           outputCol='features')\n",
    "\n",
    "hackers = assembler.transform(hackers)\n",
    "\n",
    "hackers.printSchema()"
   ]
  },
  {
   "cell_type": "code",
   "execution_count": 12,
   "metadata": {},
   "outputs": [
    {
     "name": "stdout",
     "output_type": "stream",
     "text": [
      "+--------------------+\n",
      "|            features|\n",
      "+--------------------+\n",
      "|[8.0,391.09,1.0,2...|\n",
      "|[20.0,720.99,0.0,...|\n",
      "|[31.0,356.32,1.0,...|\n",
      "|[2.0,228.08,1.0,2...|\n",
      "|[20.0,408.5,0.0,3...|\n",
      "|[1.0,390.69,1.0,2...|\n",
      "|[18.0,342.97,1.0,...|\n",
      "|[22.0,101.61,1.0,...|\n",
      "|[15.0,275.53,1.0,...|\n",
      "|[12.0,424.83,1.0,...|\n",
      "|[15.0,249.09,1.0,...|\n",
      "|[32.0,242.48,0.0,...|\n",
      "|[23.0,514.54,0.0,...|\n",
      "|[9.0,284.77,0.0,3...|\n",
      "|[27.0,779.25,1.0,...|\n",
      "|[12.0,307.31,1.0,...|\n",
      "|[21.0,355.94,1.0,...|\n",
      "|[10.0,372.65,0.0,...|\n",
      "|[20.0,347.23,1.0,...|\n",
      "|[22.0,456.57,0.0,...|\n",
      "+--------------------+\n",
      "only showing top 20 rows\n",
      "\n"
     ]
    }
   ],
   "source": [
    "## Selecionando apenas a coluna de características\n",
    "hackers = hackers.select('features')\n",
    "\n",
    "hackers.show()"
   ]
  },
  {
   "cell_type": "markdown",
   "metadata": {},
   "source": [
    "## Normalizando os dados"
   ]
  },
  {
   "cell_type": "code",
   "execution_count": 15,
   "metadata": {},
   "outputs": [],
   "source": [
    "scaler = StandardScaler(inputCol='features',\n",
    "                             outputCol='scaledFeatures')"
   ]
  },
  {
   "cell_type": "code",
   "execution_count": 17,
   "metadata": {},
   "outputs": [
    {
     "name": "stdout",
     "output_type": "stream",
     "text": [
      "+--------------------+--------------------+\n",
      "|            features|      scaledFeatures|\n",
      "+--------------------+--------------------+\n",
      "|[8.0,391.09,1.0,2...|[0.56785108466505...|\n",
      "|[20.0,720.99,0.0,...|[1.41962771166263...|\n",
      "|[31.0,356.32,1.0,...|[2.20042295307707...|\n",
      "|[2.0,228.08,1.0,2...|[0.14196277116626...|\n",
      "|[20.0,408.5,0.0,3...|[1.41962771166263...|\n",
      "|[1.0,390.69,1.0,2...|[0.07098138558313...|\n",
      "|[18.0,342.97,1.0,...|[1.27766494049636...|\n",
      "|[22.0,101.61,1.0,...|[1.56159048282889...|\n",
      "|[15.0,275.53,1.0,...|[1.06472078374697...|\n",
      "|[12.0,424.83,1.0,...|[0.85177662699757...|\n",
      "|[15.0,249.09,1.0,...|[1.06472078374697...|\n",
      "|[32.0,242.48,0.0,...|[2.27140433866020...|\n",
      "|[23.0,514.54,0.0,...|[1.63257186841202...|\n",
      "|[9.0,284.77,0.0,3...|[0.63883247024818...|\n",
      "|[27.0,779.25,1.0,...|[1.91649741074455...|\n",
      "|[12.0,307.31,1.0,...|[0.85177662699757...|\n",
      "|[21.0,355.94,1.0,...|[1.49060909724576...|\n",
      "|[10.0,372.65,0.0,...|[0.70981385583131...|\n",
      "|[20.0,347.23,1.0,...|[1.41962771166263...|\n",
      "|[22.0,456.57,0.0,...|[1.56159048282889...|\n",
      "+--------------------+--------------------+\n",
      "only showing top 20 rows\n",
      "\n"
     ]
    }
   ],
   "source": [
    "scaler_model = scaler.fit(hackers)\n",
    "\n",
    "# Preparando os dados finais\n",
    "final_data = scaler_model.transform(hackers)\n",
    "\n",
    "final_data.show()"
   ]
  },
  {
   "cell_type": "markdown",
   "metadata": {},
   "source": [
    "## Criando modelo\n",
    "\n",
    "Há duas hipóteses\n",
    "\n",
    "* Presença de 2 hackers\n",
    "* Presença de 3 hackers"
   ]
  },
  {
   "cell_type": "code",
   "execution_count": 25,
   "metadata": {},
   "outputs": [],
   "source": [
    "# Criando modelos\n",
    "kmeans_2 = KMeans(k=2, featuresCol='scaledFeatures').setSeed(1)\n",
    "kmeans_3 = KMeans(k=3, featuresCol='scaledFeatures').setSeed(1)"
   ]
  },
  {
   "cell_type": "code",
   "execution_count": 26,
   "metadata": {},
   "outputs": [],
   "source": [
    "# Estimando modelos\n",
    "model_2 = kmeans_2.fit(final_data)\n",
    "model_3 = kmeans_3.fit(final_data)"
   ]
  },
  {
   "cell_type": "code",
   "execution_count": 27,
   "metadata": {},
   "outputs": [],
   "source": [
    "# Previsões\n",
    "prev_2 = model_2.transform(final_data)\n",
    "prev_3 = model_3.transform(final_data)"
   ]
  },
  {
   "cell_type": "code",
   "execution_count": 28,
   "metadata": {},
   "outputs": [],
   "source": [
    "# Silhueta com distância euclidiana ao quadrado\n",
    "evaluator = ClusteringEvaluator()\n",
    "silhueta_2 = evaluator.evaluate(prev_2)\n",
    "silhueta_3 = evaluator.evaluate(prev_3)"
   ]
  },
  {
   "cell_type": "code",
   "execution_count": 29,
   "metadata": {},
   "outputs": [
    {
     "name": "stdout",
     "output_type": "stream",
     "text": [
      "Silhueta da distância euclidiana ao quadrado: \n",
      "Modelo 2 hackers: 0.67\n",
      "Modelo 3 Hackers: 0.3\n"
     ]
    }
   ],
   "source": [
    "print('Silhueta da distância euclidiana ao quadrado: ')\n",
    "print(f\"Modelo 2 hackers: {silhueta_2:.2}\\nModelo 3 Hackers: {silhueta_3:.2}\")"
   ]
  },
  {
   "cell_type": "code",
   "execution_count": 30,
   "metadata": {},
   "outputs": [
    {
     "data": {
      "text/plain": [
       "[array([2.99991988, 2.92319035, 1.05261534, 3.20390443, 4.51321315,\n",
       "        3.28474   ]),\n",
       " array([1.26023837, 1.31829808, 0.99280765, 1.36491885, 2.5625043 ,\n",
       "        5.26676612])]"
      ]
     },
     "execution_count": 30,
     "metadata": {},
     "output_type": "execute_result"
    }
   ],
   "source": [
    "# Verificando centros\n",
    "print('Centros para modelo com 2 hackers:\\n')\n",
    "model_2.clusterCenters()"
   ]
  },
  {
   "cell_type": "code",
   "execution_count": 32,
   "metadata": {},
   "outputs": [
    {
     "name": "stdout",
     "output_type": "stream",
     "text": [
      "Centros para modelo com 3 hackers:\n",
      "\n"
     ]
    },
    {
     "data": {
      "text/plain": [
       "[array([3.05623261, 2.95754486, 1.99757683, 3.2079628 , 4.49941976,\n",
       "        3.26738378]),\n",
       " array([1.26023837, 1.31829808, 0.99280765, 1.36491885, 2.5625043 ,\n",
       "        5.26676612]),\n",
       " array([2.93719177, 2.88492202, 0.        , 3.19938371, 4.52857793,\n",
       "        3.30407351])]"
      ]
     },
     "execution_count": 32,
     "metadata": {},
     "output_type": "execute_result"
    }
   ],
   "source": [
    "print('Centros para modelo com 3 hackers:\\n')\n",
    "model_3.clusterCenters()"
   ]
  },
  {
   "cell_type": "code",
   "execution_count": 23,
   "metadata": {},
   "outputs": [
    {
     "name": "stdout",
     "output_type": "stream",
     "text": [
      "+--------------------+--------------------+----------+\n",
      "|            features|      scaledFeatures|prediction|\n",
      "+--------------------+--------------------+----------+\n",
      "|[8.0,391.09,1.0,2...|[0.56785108466505...|         1|\n",
      "|[20.0,720.99,0.0,...|[1.41962771166263...|         0|\n",
      "|[31.0,356.32,1.0,...|[2.20042295307707...|         1|\n",
      "|[2.0,228.08,1.0,2...|[0.14196277116626...|         1|\n",
      "|[20.0,408.5,0.0,3...|[1.41962771166263...|         1|\n",
      "|[1.0,390.69,1.0,2...|[0.07098138558313...|         1|\n",
      "|[18.0,342.97,1.0,...|[1.27766494049636...|         1|\n",
      "|[22.0,101.61,1.0,...|[1.56159048282889...|         1|\n",
      "|[15.0,275.53,1.0,...|[1.06472078374697...|         1|\n",
      "|[12.0,424.83,1.0,...|[0.85177662699757...|         1|\n",
      "|[15.0,249.09,1.0,...|[1.06472078374697...|         1|\n",
      "|[32.0,242.48,0.0,...|[2.27140433866020...|         1|\n",
      "|[23.0,514.54,0.0,...|[1.63257186841202...|         1|\n",
      "|[9.0,284.77,0.0,3...|[0.63883247024818...|         1|\n",
      "|[27.0,779.25,1.0,...|[1.91649741074455...|         0|\n",
      "|[12.0,307.31,1.0,...|[0.85177662699757...|         1|\n",
      "|[21.0,355.94,1.0,...|[1.49060909724576...|         1|\n",
      "|[10.0,372.65,0.0,...|[0.70981385583131...|         1|\n",
      "|[20.0,347.23,1.0,...|[1.41962771166263...|         1|\n",
      "|[22.0,456.57,0.0,...|[1.56159048282889...|         1|\n",
      "+--------------------+--------------------+----------+\n",
      "only showing top 20 rows\n",
      "\n"
     ]
    }
   ],
   "source": [
    "# Vendo classificação\n",
    "prev_2.show()"
   ]
  },
  {
   "cell_type": "code",
   "execution_count": 24,
   "metadata": {},
   "outputs": [
    {
     "name": "stdout",
     "output_type": "stream",
     "text": [
      "+--------------------+--------------------+----------+\n",
      "|            features|      scaledFeatures|prediction|\n",
      "+--------------------+--------------------+----------+\n",
      "|[8.0,391.09,1.0,2...|[0.56785108466505...|         1|\n",
      "|[20.0,720.99,0.0,...|[1.41962771166263...|         0|\n",
      "|[31.0,356.32,1.0,...|[2.20042295307707...|         1|\n",
      "|[2.0,228.08,1.0,2...|[0.14196277116626...|         1|\n",
      "|[20.0,408.5,0.0,3...|[1.41962771166263...|         1|\n",
      "|[1.0,390.69,1.0,2...|[0.07098138558313...|         1|\n",
      "|[18.0,342.97,1.0,...|[1.27766494049636...|         1|\n",
      "|[22.0,101.61,1.0,...|[1.56159048282889...|         1|\n",
      "|[15.0,275.53,1.0,...|[1.06472078374697...|         1|\n",
      "|[12.0,424.83,1.0,...|[0.85177662699757...|         1|\n",
      "|[15.0,249.09,1.0,...|[1.06472078374697...|         1|\n",
      "|[32.0,242.48,0.0,...|[2.27140433866020...|         1|\n",
      "|[23.0,514.54,0.0,...|[1.63257186841202...|         0|\n",
      "|[9.0,284.77,0.0,3...|[0.63883247024818...|         1|\n",
      "|[27.0,779.25,1.0,...|[1.91649741074455...|         2|\n",
      "|[12.0,307.31,1.0,...|[0.85177662699757...|         1|\n",
      "|[21.0,355.94,1.0,...|[1.49060909724576...|         1|\n",
      "|[10.0,372.65,0.0,...|[0.70981385583131...|         1|\n",
      "|[20.0,347.23,1.0,...|[1.41962771166263...|         1|\n",
      "|[22.0,456.57,0.0,...|[1.56159048282889...|         0|\n",
      "+--------------------+--------------------+----------+\n",
      "only showing top 20 rows\n",
      "\n"
     ]
    }
   ],
   "source": [
    "prev_3.show()"
   ]
  },
  {
   "cell_type": "markdown",
   "metadata": {},
   "source": [
    "## Verificando paridade de ataques - premissa da empresa"
   ]
  },
  {
   "cell_type": "code",
   "execution_count": 35,
   "metadata": {},
   "outputs": [
    {
     "name": "stdout",
     "output_type": "stream",
     "text": [
      "+----------+-----+\n",
      "|prediction|count|\n",
      "+----------+-----+\n",
      "|         1|  167|\n",
      "|         0|  167|\n",
      "+----------+-----+\n",
      "\n"
     ]
    }
   ],
   "source": [
    "prev_2.select('prediction').groupBy('prediction').count().show()"
   ]
  },
  {
   "cell_type": "code",
   "execution_count": 34,
   "metadata": {},
   "outputs": [
    {
     "name": "stdout",
     "output_type": "stream",
     "text": [
      "+----------+-----+\n",
      "|prediction|count|\n",
      "+----------+-----+\n",
      "|         1|  167|\n",
      "|         2|   79|\n",
      "|         0|   88|\n",
      "+----------+-----+\n",
      "\n"
     ]
    }
   ],
   "source": [
    "prev_3.select('prediction').groupBy('prediction').count().show()"
   ]
  },
  {
   "cell_type": "markdown",
   "metadata": {},
   "source": [
    "## Conclusão\n",
    "\n",
    "O modelo K-Means sugere que apenas 2 hackers atacaram o sistema da empresa. Isto deve-se ao fato de que ao adicionar um terceiro hacker, a shilueta se distância do valor de 1 indicando que há uma maior interseção de classificação quando comparada ao modelo com 2 hackers.\n",
    "\n",
    "Além disso, quando confrontamos a quantidade de ataques feitos no modelo com 2 hackers, nós verificamos a paridade de ataques de 50%, confirmando a hipótese da empresa. Quando adicioanmos um 3 hacker, um dos hackers fica com maior concentração do ataque ferindo um fator observado pela empresa."
   ]
  }
 ],
 "metadata": {
  "anaconda-cloud": {},
  "kernelspec": {
   "display_name": "Python 3 (ipykernel)",
   "language": "python",
   "name": "python3"
  },
  "language_info": {
   "codemirror_mode": {
    "name": "ipython",
    "version": 3
   },
   "file_extension": ".py",
   "mimetype": "text/x-python",
   "name": "python",
   "nbconvert_exporter": "python",
   "pygments_lexer": "ipython3",
   "version": "3.10.4"
  }
 },
 "nbformat": 4,
 "nbformat_minor": 1
}

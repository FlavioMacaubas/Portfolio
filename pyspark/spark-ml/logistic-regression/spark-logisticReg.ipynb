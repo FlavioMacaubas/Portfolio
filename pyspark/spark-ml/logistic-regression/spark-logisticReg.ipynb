{
 "cells": [
  {
   "cell_type": "markdown",
   "id": "22370fcb",
   "metadata": {},
   "source": [
    "# Regressão Logística - Classificação\n",
    "\n",
    "\n",
    "[Matriz de Confusão](https://pt.wikipedia.org/wiki/Matriz_de_confus%C3%A3o)\n",
    "\n",
    "[Curva Roc](https://pt.wikipedia.org/wiki/Caracter%C3%ADstica_de_Opera%C3%A7%C3%A3o_do_Receptor)"
   ]
  },
  {
   "cell_type": "code",
   "execution_count": 1,
   "id": "7778c07e",
   "metadata": {},
   "outputs": [
    {
     "name": "stderr",
     "output_type": "stream",
     "text": [
      "22/05/16 13:33:23 WARN Utils: Your hostname, macaubas-VirtualBox resolves to a loopback address: 127.0.1.1; using 10.0.2.15 instead (on interface enp0s3)\n",
      "22/05/16 13:33:23 WARN Utils: Set SPARK_LOCAL_IP if you need to bind to another address\n",
      "WARNING: An illegal reflective access operation has occurred\n",
      "WARNING: Illegal reflective access by org.apache.spark.unsafe.Platform (file:/home/macaubas/spark-3.2.1-bin-hadoop3.2/jars/spark-unsafe_2.12-3.2.1.jar) to constructor java.nio.DirectByteBuffer(long,int)\n",
      "WARNING: Please consider reporting this to the maintainers of org.apache.spark.unsafe.Platform\n",
      "WARNING: Use --illegal-access=warn to enable warnings of further illegal reflective access operations\n",
      "WARNING: All illegal access operations will be denied in a future release\n",
      "Using Spark's default log4j profile: org/apache/spark/log4j-defaults.properties\n",
      "Setting default log level to \"WARN\".\n",
      "To adjust logging level use sc.setLogLevel(newLevel). For SparkR, use setLogLevel(newLevel).\n",
      "22/05/16 13:33:29 WARN NativeCodeLoader: Unable to load native-hadoop library for your platform... using builtin-java classes where applicable\n"
     ]
    }
   ],
   "source": [
    "# Inicializando Spark\n",
    "import findspark\n",
    "findspark.init('/home/macaubas/spark-3.2.1-bin-hadoop3.2')\n",
    "import pyspark\n",
    "\n",
    "from pyspark.sql import SparkSession \n",
    "\n",
    "spark = SparkSession.builder.appName(\"logisticReg\").getOrCreate()"
   ]
  },
  {
   "cell_type": "markdown",
   "id": "4fe7cfe5",
   "metadata": {},
   "source": [
    "## Imports"
   ]
  },
  {
   "cell_type": "code",
   "execution_count": 39,
   "id": "447632c5",
   "metadata": {},
   "outputs": [],
   "source": [
    "# Regressão linear\n",
    "from pyspark.ml.classification import LogisticRegression\n",
    "\n",
    "# Features\n",
    "from pyspark.ml.feature import (VectorAssembler, VectorIndexer,\n",
    "                               OneHotEncoder, StringIndexer)\n",
    "\n",
    "# Pipeline\n",
    "from pyspark.ml import Pipeline\n",
    "\n",
    "# Evaluator\n",
    "from pyspark.ml.evaluation import BinaryClassificationEvaluator"
   ]
  },
  {
   "cell_type": "code",
   "execution_count": 27,
   "id": "9ac7c7e5",
   "metadata": {},
   "outputs": [
    {
     "name": "stdout",
     "output_type": "stream",
     "text": [
      "root\n",
      " |-- PassengerId: integer (nullable = true)\n",
      " |-- Survived: integer (nullable = true)\n",
      " |-- Pclass: integer (nullable = true)\n",
      " |-- Name: string (nullable = true)\n",
      " |-- Sex: string (nullable = true)\n",
      " |-- Age: double (nullable = true)\n",
      " |-- SibSp: integer (nullable = true)\n",
      " |-- Parch: integer (nullable = true)\n",
      " |-- Ticket: string (nullable = true)\n",
      " |-- Fare: double (nullable = true)\n",
      " |-- Cabin: string (nullable = true)\n",
      " |-- Embarked: string (nullable = true)\n",
      "\n"
     ]
    }
   ],
   "source": [
    "# Load data\n",
    "df = spark.read.csv('titanic.csv', inferSchema=True, header=True)\n",
    "\n",
    "# Esquema\n",
    "df.printSchema()"
   ]
  },
  {
   "cell_type": "code",
   "execution_count": 28,
   "id": "bd2fdec2",
   "metadata": {},
   "outputs": [
    {
     "name": "stdout",
     "output_type": "stream",
     "text": [
      "Row(PassengerId=1, Survived=0, Pclass=3, Name='Braund, Mr. Owen Harris', Sex='male', Age=22.0, SibSp=1, Parch=0, Ticket='A/5 21171', Fare=7.25, Cabin=None, Embarked='S')\n",
      "\n",
      "\n",
      "Row(PassengerId=2, Survived=1, Pclass=1, Name='Cumings, Mrs. John Bradley (Florence Briggs Thayer)', Sex='female', Age=38.0, SibSp=1, Parch=0, Ticket='PC 17599', Fare=71.2833, Cabin='C85', Embarked='C')\n",
      "\n",
      "\n",
      "Row(PassengerId=3, Survived=1, Pclass=3, Name='Heikkinen, Miss. Laina', Sex='female', Age=26.0, SibSp=0, Parch=0, Ticket='STON/O2. 3101282', Fare=7.925, Cabin=None, Embarked='S')\n",
      "\n",
      "\n",
      "Row(PassengerId=4, Survived=1, Pclass=1, Name='Futrelle, Mrs. Jacques Heath (Lily May Peel)', Sex='female', Age=35.0, SibSp=1, Parch=0, Ticket='113803', Fare=53.1, Cabin='C123', Embarked='S')\n",
      "\n",
      "\n",
      "Row(PassengerId=5, Survived=0, Pclass=3, Name='Allen, Mr. William Henry', Sex='male', Age=35.0, SibSp=0, Parch=0, Ticket='373450', Fare=8.05, Cabin=None, Embarked='S')\n",
      "\n",
      "\n"
     ]
    }
   ],
   "source": [
    "# Viz\n",
    "for e in df.head(5):\n",
    "    print(e)\n",
    "    print('\\n')"
   ]
  },
  {
   "cell_type": "code",
   "execution_count": 29,
   "id": "b6dc6eb1",
   "metadata": {},
   "outputs": [],
   "source": [
    "# Selecionando colunas de interesse\n",
    "my_cols = df.select(['Survived','Pclass','Sex',\n",
    "                     'Age','SibSp','Parch',\n",
    "                     'Fare','Embarked'])"
   ]
  },
  {
   "cell_type": "code",
   "execution_count": 30,
   "id": "fba0795c",
   "metadata": {},
   "outputs": [
    {
     "name": "stdout",
     "output_type": "stream",
     "text": [
      "Row(Survived=0, Pclass=3, Sex='male', Age=22.0, SibSp=1, Parch=0, Fare=7.25, Embarked='S')\n",
      "\n",
      "\n",
      "Row(Survived=1, Pclass=1, Sex='female', Age=38.0, SibSp=1, Parch=0, Fare=71.2833, Embarked='C')\n",
      "\n",
      "\n",
      "Row(Survived=1, Pclass=3, Sex='female', Age=26.0, SibSp=0, Parch=0, Fare=7.925, Embarked='S')\n",
      "\n",
      "\n",
      "Row(Survived=1, Pclass=1, Sex='female', Age=35.0, SibSp=1, Parch=0, Fare=53.1, Embarked='S')\n",
      "\n",
      "\n",
      "Row(Survived=0, Pclass=3, Sex='male', Age=35.0, SibSp=0, Parch=0, Fare=8.05, Embarked='S')\n",
      "\n",
      "\n"
     ]
    }
   ],
   "source": [
    "# Removendo valores ausentes\n",
    "final_data = my_cols.na.drop()\n",
    "\n",
    "# Viz\n",
    "for e in final_data.head(5):\n",
    "    print(e)\n",
    "    print('\\n')"
   ]
  },
  {
   "cell_type": "markdown",
   "id": "bf307b3d",
   "metadata": {},
   "source": [
    "## StringeIndexer e OneHotEncoder"
   ]
  },
  {
   "cell_type": "code",
   "execution_count": 31,
   "id": "3c8dc50a",
   "metadata": {},
   "outputs": [],
   "source": [
    "## Sexo\n",
    "\n",
    "# Criando stringer indexer - converter string para números\n",
    "gender_indexer = StringIndexer(inputCol='Sex', outputCol='Sex_Index')\n",
    "\n",
    "# OneHotEncoder - vectorizar a característica\n",
    "gender_encoder = OneHotEncoder(inputCol = 'Sex_Index', outputCol='Sex_Vec')"
   ]
  },
  {
   "cell_type": "code",
   "execution_count": 32,
   "id": "eecce251",
   "metadata": {},
   "outputs": [],
   "source": [
    "## Embark\n",
    "\n",
    "# Stringer indexer\n",
    "embark_indexer = StringIndexer(inputCol='Embarked', outputCol='Embarked_Index')\n",
    "\n",
    "# OneHotEnconder \n",
    "embark_encoder = OneHotEncoder(inputCol='Embarked_Index', outputCol='Embarked_Vec')"
   ]
  },
  {
   "cell_type": "code",
   "execution_count": 33,
   "id": "7136a011",
   "metadata": {},
   "outputs": [],
   "source": [
    "## Criando assembler\n",
    "assembler = VectorAssembler(inputCols=['Pclass', 'Sex_Vec', 'Embarked_Vec', \n",
    "                                       'Age','SibSp','Parch','Fare'], \n",
    "                            outputCol='features')"
   ]
  },
  {
   "cell_type": "markdown",
   "id": "ea00dbf0",
   "metadata": {},
   "source": [
    "## Modelo"
   ]
  },
  {
   "cell_type": "code",
   "execution_count": 34,
   "id": "429eb98f",
   "metadata": {},
   "outputs": [],
   "source": [
    "## Criando modelo\n",
    "log_reg_titanic = LogisticRegression(featuresCol = 'features', labelCol = 'Survived')\n"
   ]
  },
  {
   "cell_type": "markdown",
   "id": "0a929a40",
   "metadata": {},
   "source": [
    "## Pipeline - etapas"
   ]
  },
  {
   "cell_type": "code",
   "execution_count": 35,
   "id": "58946adf",
   "metadata": {},
   "outputs": [],
   "source": [
    "## Criando pipeline - O que fazer em cada etapa\n",
    "pipeline = Pipeline(stages=[gender_indexer, embark_indexer,\n",
    "                           gender_encoder, embark_encoder,\n",
    "                           assembler, log_reg_titanic])"
   ]
  },
  {
   "cell_type": "code",
   "execution_count": 36,
   "id": "923cceb1",
   "metadata": {},
   "outputs": [],
   "source": [
    "# Criando teste e treino\n",
    "train_data, test_data = final_data.randomSplit([0.7,0.3])"
   ]
  },
  {
   "cell_type": "code",
   "execution_count": 37,
   "id": "d8af276e",
   "metadata": {},
   "outputs": [
    {
     "name": "stderr",
     "output_type": "stream",
     "text": [
      "22/05/16 14:13:41 WARN InstanceBuilder$NativeBLAS: Failed to load implementation from:dev.ludovic.netlib.blas.JNIBLAS\n",
      "22/05/16 14:13:41 WARN InstanceBuilder$NativeBLAS: Failed to load implementation from:dev.ludovic.netlib.blas.ForeignLinkerBLAS\n"
     ]
    }
   ],
   "source": [
    "# Estimando modelo\n",
    "fitted_model = pipeline.fit(train_data)\n"
   ]
  },
  {
   "cell_type": "code",
   "execution_count": 38,
   "id": "2ce31580",
   "metadata": {},
   "outputs": [],
   "source": [
    "# Resultados\n",
    "results = fitted_model.transform(test_data)"
   ]
  },
  {
   "cell_type": "code",
   "execution_count": 42,
   "id": "5bfbb5bd",
   "metadata": {},
   "outputs": [
    {
     "name": "stdout",
     "output_type": "stream",
     "text": [
      "+--------+----------+\n",
      "|Survived|prediction|\n",
      "+--------+----------+\n",
      "|       0|       1.0|\n",
      "|       0|       1.0|\n",
      "|       0|       1.0|\n",
      "|       0|       1.0|\n",
      "|       0|       0.0|\n",
      "|       0|       0.0|\n",
      "|       0|       0.0|\n",
      "|       0|       0.0|\n",
      "|       0|       0.0|\n",
      "|       0|       0.0|\n",
      "|       0|       0.0|\n",
      "|       0|       0.0|\n",
      "|       0|       0.0|\n",
      "|       0|       0.0|\n",
      "|       0|       0.0|\n",
      "|       0|       0.0|\n",
      "|       0|       1.0|\n",
      "|       0|       1.0|\n",
      "|       0|       1.0|\n",
      "|       0|       0.0|\n",
      "+--------+----------+\n",
      "only showing top 20 rows\n",
      "\n"
     ]
    }
   ],
   "source": [
    "# Viz\n",
    "results.select('Survived', 'prediction').show()"
   ]
  },
  {
   "cell_type": "markdown",
   "id": "8e27aad2",
   "metadata": {},
   "source": [
    "## Avaliando o modelo"
   ]
  },
  {
   "cell_type": "code",
   "execution_count": 41,
   "id": "8c274e79",
   "metadata": {},
   "outputs": [],
   "source": [
    "# rawPredictionCol tem o nome de prediction pq por default quando damos fit no modelo, sua coluna de predição tem esse nome\n",
    "my_eval = BinaryClassificationEvaluator(rawPredictionCol='prediction', labelCol='Survived')"
   ]
  },
  {
   "cell_type": "code",
   "execution_count": 43,
   "id": "0cc1189c",
   "metadata": {},
   "outputs": [],
   "source": [
    "# Avaliando meus resultados\n",
    "AUC = my_eval.evaluate(results) #ROC"
   ]
  },
  {
   "cell_type": "code",
   "execution_count": 44,
   "id": "f65b3075",
   "metadata": {},
   "outputs": [
    {
     "data": {
      "text/plain": [
       "0.7789419443490209"
      ]
     },
     "execution_count": 44,
     "metadata": {},
     "output_type": "execute_result"
    }
   ],
   "source": [
    "AUC"
   ]
  },
  {
   "cell_type": "markdown",
   "id": "da62d363",
   "metadata": {},
   "source": [
    "Quanto mais próximo de 1, mais perfeito nosso modelo de classificação. Para este caso, vemos que temos um valor de 0.77 que é melhor do que uma previsão completamente aleatória. Mais a frente iremos trabalhar com outras métricas além da área abaixo da curva."
   ]
  }
 ],
 "metadata": {
  "kernelspec": {
   "display_name": "Python 3 (ipykernel)",
   "language": "python",
   "name": "python3"
  },
  "language_info": {
   "codemirror_mode": {
    "name": "ipython",
    "version": 3
   },
   "file_extension": ".py",
   "mimetype": "text/x-python",
   "name": "python",
   "nbconvert_exporter": "python",
   "pygments_lexer": "ipython3",
   "version": "3.10.4"
  }
 },
 "nbformat": 4,
 "nbformat_minor": 5
}

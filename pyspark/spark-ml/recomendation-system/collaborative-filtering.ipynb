{
 "cells": [
  {
   "cell_type": "markdown",
   "id": "884f6dae",
   "metadata": {},
   "source": [
    "# Recomendation System\n",
    "\n",
    "\n",
    "### Collaborative Filtering - utilizará \"conhecimento de multidão\""
   ]
  },
  {
   "cell_type": "code",
   "execution_count": 3,
   "id": "905b9412",
   "metadata": {},
   "outputs": [],
   "source": [
    "# Inicializando Spark\n",
    "import findspark\n",
    "findspark.init('/home/macaubas/spark-3.2.1-bin-hadoop3.2')\n",
    "import pyspark\n",
    "\n",
    "from pyspark.sql import SparkSession \n",
    "\n",
    "spark = SparkSession.builder.appName(\"recomendationSystem\").getOrCreate()"
   ]
  },
  {
   "cell_type": "code",
   "execution_count": 4,
   "id": "3345ba22",
   "metadata": {},
   "outputs": [],
   "source": [
    "from pyspark.ml.recommendation import ALS\n",
    "\n",
    "from pyspark.ml.evaluation import RegressionEvaluator"
   ]
  },
  {
   "cell_type": "markdown",
   "id": "79942ce8",
   "metadata": {},
   "source": [
    "## Carregando dados"
   ]
  },
  {
   "cell_type": "code",
   "execution_count": 5,
   "id": "6ac5db4d",
   "metadata": {},
   "outputs": [
    {
     "name": "stdout",
     "output_type": "stream",
     "text": [
      "root\n",
      " |-- movieId: integer (nullable = true)\n",
      " |-- rating: double (nullable = true)\n",
      " |-- userId: integer (nullable = true)\n",
      "\n"
     ]
    }
   ],
   "source": [
    "data  = spark.read.csv('movielens_ratings.csv', inferSchema=True, header=True)\n",
    "\n",
    "data.printSchema()"
   ]
  },
  {
   "cell_type": "code",
   "execution_count": 6,
   "id": "f29a34b2",
   "metadata": {},
   "outputs": [
    {
     "name": "stdout",
     "output_type": "stream",
     "text": [
      "+-------+------+------+\n",
      "|movieId|rating|userId|\n",
      "+-------+------+------+\n",
      "|      2|   3.0|     0|\n",
      "|      3|   1.0|     0|\n",
      "|      5|   2.0|     0|\n",
      "|      9|   4.0|     0|\n",
      "|     11|   1.0|     0|\n",
      "|     12|   2.0|     0|\n",
      "|     15|   1.0|     0|\n",
      "|     17|   1.0|     0|\n",
      "|     19|   1.0|     0|\n",
      "|     21|   1.0|     0|\n",
      "|     23|   1.0|     0|\n",
      "|     26|   3.0|     0|\n",
      "|     27|   1.0|     0|\n",
      "|     28|   1.0|     0|\n",
      "|     29|   1.0|     0|\n",
      "|     30|   1.0|     0|\n",
      "|     31|   1.0|     0|\n",
      "|     34|   1.0|     0|\n",
      "|     37|   1.0|     0|\n",
      "|     41|   2.0|     0|\n",
      "+-------+------+------+\n",
      "only showing top 20 rows\n",
      "\n"
     ]
    }
   ],
   "source": [
    "data.show()"
   ]
  },
  {
   "cell_type": "code",
   "execution_count": 7,
   "id": "5c634673",
   "metadata": {},
   "outputs": [
    {
     "name": "stdout",
     "output_type": "stream",
     "text": [
      "+-------+------------------+------------------+------------------+\n",
      "|summary|           movieId|            rating|            userId|\n",
      "+-------+------------------+------------------+------------------+\n",
      "|  count|              1501|              1501|              1501|\n",
      "|   mean| 49.40572951365756|1.7741505662891406|14.383744170552964|\n",
      "| stddev|28.937034065088994| 1.187276166124803| 8.591040424293272|\n",
      "|    min|                 0|               1.0|                 0|\n",
      "|    max|                99|               5.0|                29|\n",
      "+-------+------------------+------------------+------------------+\n",
      "\n"
     ]
    }
   ],
   "source": [
    "# Sumarização\n",
    "data.describe().show()"
   ]
  },
  {
   "cell_type": "markdown",
   "id": "7025076f",
   "metadata": {},
   "source": [
    "## Criando modelo"
   ]
  },
  {
   "cell_type": "code",
   "execution_count": 8,
   "id": "b8790242",
   "metadata": {},
   "outputs": [],
   "source": [
    "treino, teste = data.randomSplit([0.8, 0.2]) "
   ]
  },
  {
   "cell_type": "code",
   "execution_count": 9,
   "id": "9788f9b7",
   "metadata": {},
   "outputs": [],
   "source": [
    "als = ALS(maxIter = 5, regParam = 0.01, userCol = 'userId', itemCol = 'movieId', ratingCol='rating')"
   ]
  },
  {
   "cell_type": "code",
   "execution_count": 10,
   "id": "56162dc5",
   "metadata": {},
   "outputs": [
    {
     "name": "stderr",
     "output_type": "stream",
     "text": [
      "22/05/26 18:06:42 WARN InstanceBuilder$NativeBLAS: Failed to load implementation from:dev.ludovic.netlib.blas.JNIBLAS\n",
      "22/05/26 18:06:42 WARN InstanceBuilder$NativeBLAS: Failed to load implementation from:dev.ludovic.netlib.blas.ForeignLinkerBLAS\n",
      "22/05/26 18:06:42 WARN InstanceBuilder$NativeLAPACK: Failed to load implementation from:dev.ludovic.netlib.lapack.JNILAPACK\n"
     ]
    }
   ],
   "source": [
    "model = als.fit(treino)"
   ]
  },
  {
   "cell_type": "code",
   "execution_count": 12,
   "id": "75647b47",
   "metadata": {},
   "outputs": [],
   "source": [
    "prev = model.transform(teste)"
   ]
  },
  {
   "cell_type": "code",
   "execution_count": 13,
   "id": "1e319a78",
   "metadata": {},
   "outputs": [
    {
     "name": "stdout",
     "output_type": "stream",
     "text": [
      "+-------+------+------+----------+\n",
      "|movieId|rating|userId|prediction|\n",
      "+-------+------+------+----------+\n",
      "|      1|   1.0|     3|-1.1536826|\n",
      "|      1|   1.0|     7| 0.2599645|\n",
      "|      1|   1.0|    18| -2.355354|\n",
      "|      1|   1.0|    20| 3.1402643|\n",
      "|      6|   1.0|    12| 0.6323263|\n",
      "|      6|   1.0|    17| 2.0762157|\n",
      "|      6|   1.0|    28| 1.1642405|\n",
      "|      3|   1.0|     7| 1.7916229|\n",
      "|      3|   1.0|     9|-0.7752188|\n",
      "|      3|   2.0|    22|0.19113645|\n",
      "|      3|   1.0|    26| 0.9200826|\n",
      "|      3|   1.0|    29|0.42141575|\n",
      "|      5|   1.0|     5|0.72000194|\n",
      "|      5|   1.0|     6|0.39580426|\n",
      "|      5|   1.0|    14| 1.9717283|\n",
      "|      5|   2.0|    18| 0.3949222|\n",
      "|      4|   3.0|     2| 1.6600506|\n",
      "|      4|   2.0|    13|  2.470923|\n",
      "|      4|   1.0|    14| 1.0897304|\n",
      "|      7|   1.0|     7|0.22231805|\n",
      "+-------+------+------+----------+\n",
      "only showing top 20 rows\n",
      "\n"
     ]
    }
   ],
   "source": [
    "prev.show()"
   ]
  },
  {
   "cell_type": "markdown",
   "id": "298100ac",
   "metadata": {},
   "source": [
    "### Quando o valor da previsão é negativo, indica que o usuário provavelmente não gostará do filme"
   ]
  },
  {
   "cell_type": "markdown",
   "id": "4e5864d9",
   "metadata": {},
   "source": [
    "## Avaliando o modelo"
   ]
  },
  {
   "cell_type": "code",
   "execution_count": 16,
   "id": "53e2a4a8",
   "metadata": {},
   "outputs": [],
   "source": [
    "# Avaliar por raiz quadrada do erro médio\n",
    "evaluator = RegressionEvaluator(metricName = 'rmse', labelCol='rating', predictionCol='prediction')"
   ]
  },
  {
   "cell_type": "code",
   "execution_count": 17,
   "id": "1e7d8ff1",
   "metadata": {},
   "outputs": [],
   "source": [
    "rmse = evaluator.evaluate(prev)"
   ]
  },
  {
   "cell_type": "code",
   "execution_count": 18,
   "id": "a109356b",
   "metadata": {},
   "outputs": [
    {
     "name": "stdout",
     "output_type": "stream",
     "text": [
      "Raíz do erro quadrático médio: \n",
      "2.0\n"
     ]
    }
   ],
   "source": [
    "print(f\"Raíz do erro quadrático médio: \\n{rmse:.2}\")"
   ]
  },
  {
   "cell_type": "markdown",
   "id": "7ac8a752",
   "metadata": {},
   "source": [
    "## Nossa previsão não é boa, isso deve-se ao fato do nosso banco de dados ser pequeno."
   ]
  },
  {
   "cell_type": "markdown",
   "id": "42a874f2",
   "metadata": {},
   "source": [
    "## Vendo recomendações para 1 usuário"
   ]
  },
  {
   "cell_type": "code",
   "execution_count": 21,
   "id": "ca279233",
   "metadata": {},
   "outputs": [],
   "source": [
    "um_usuario = teste.filter(teste['userId'] == 11).select(['movieId', 'userId'])"
   ]
  },
  {
   "cell_type": "code",
   "execution_count": 22,
   "id": "8078d10f",
   "metadata": {},
   "outputs": [
    {
     "name": "stdout",
     "output_type": "stream",
     "text": [
      "+-------+------+\n",
      "|movieId|userId|\n",
      "+-------+------+\n",
      "|      9|    11|\n",
      "|     35|    11|\n",
      "|     38|    11|\n",
      "|     39|    11|\n",
      "|     43|    11|\n",
      "|     45|    11|\n",
      "|     48|    11|\n",
      "|     64|    11|\n",
      "|     67|    11|\n",
      "|     72|    11|\n",
      "|     88|    11|\n",
      "|     89|    11|\n",
      "+-------+------+\n",
      "\n"
     ]
    }
   ],
   "source": [
    "um_usuario.show()"
   ]
  },
  {
   "cell_type": "markdown",
   "id": "84199eee",
   "metadata": {},
   "source": [
    "## Verificando o que recomendaríamos para este usuário"
   ]
  },
  {
   "cell_type": "code",
   "execution_count": 23,
   "id": "4737ed05",
   "metadata": {},
   "outputs": [],
   "source": [
    "recommendations = model.transform(um_usuario)"
   ]
  },
  {
   "cell_type": "code",
   "execution_count": 24,
   "id": "bd4626b6",
   "metadata": {},
   "outputs": [
    {
     "name": "stdout",
     "output_type": "stream",
     "text": [
      "+-------+------+----------+\n",
      "|movieId|userId|prediction|\n",
      "+-------+------+----------+\n",
      "|     64|    11|  6.042179|\n",
      "|     38|    11|  5.246582|\n",
      "|     45|    11| 2.5490427|\n",
      "|     72|    11| 2.5316136|\n",
      "|     43|    11| 2.5046172|\n",
      "|     67|    11| 2.4412787|\n",
      "|     35|    11| 2.3146455|\n",
      "|     39|    11| 2.2624078|\n",
      "|     48|    11| 1.9504893|\n",
      "|      9|    11|  0.630543|\n",
      "|     88|    11|-1.1304348|\n",
      "|     89|    11|-1.9932177|\n",
      "+-------+------+----------+\n",
      "\n"
     ]
    }
   ],
   "source": [
    "recommendations.orderBy('prediction', ascending = False).show()"
   ]
  },
  {
   "cell_type": "markdown",
   "id": "b95c7c65",
   "metadata": {},
   "source": [
    "## Conclusão\n",
    "\n",
    "Baseado em usuários que assistiram filmes similares ao usuário 11, podemos recomendar os filmes 64 e 38 como prováveis filmes que o usuário 11 gostaria muito de assistir. Os filmes com previsão entre 2.54 e 2.26 o usuário poderia ser indiferente - levando em consideração que nosso RMSE é de 2. Os filmes com previsão menores que 2, é provável que os usuário seja indiferente ou não goste de forma alguma.\n",
    "\n",
    "\n",
    "O ideal seria aumentar a base de dados de forma a reduzir nosso erro e assim conseguir fazer previsões mais consistentes para o usuário.\n",
    "\n",
    "Além disso, o modelo é incapaz de lidar com usuário \"Cold Start\" - aqueles que não assistiram nenhum filme na plataforma ainda. Para lidar com este problema, reocmenda-se um breve questionário para melhor identificar as preferência daquele novo usário."
   ]
  }
 ],
 "metadata": {
  "kernelspec": {
   "display_name": "Python 3 (ipykernel)",
   "language": "python",
   "name": "python3"
  },
  "language_info": {
   "codemirror_mode": {
    "name": "ipython",
    "version": 3
   },
   "file_extension": ".py",
   "mimetype": "text/x-python",
   "name": "python",
   "nbconvert_exporter": "python",
   "pygments_lexer": "ipython3",
   "version": "3.10.4"
  }
 },
 "nbformat": 4,
 "nbformat_minor": 5
}

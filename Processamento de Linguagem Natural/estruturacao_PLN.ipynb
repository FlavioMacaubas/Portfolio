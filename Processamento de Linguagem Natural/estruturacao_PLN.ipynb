{
 "cells": [
  {
   "cell_type": "markdown",
   "metadata": {},
   "source": [
    "# Estruturação de dados não estruturados a partir de técnica de Processamento de Linguagem Natural\n",
    "## Autor: Flávio Macaúbas Torres Filho"
   ]
  },
  {
   "cell_type": "code",
   "execution_count": 50,
   "metadata": {},
   "outputs": [],
   "source": [
    "# Bibliotecas necessárias\n",
    "import nltk\n",
    "import re\n",
    "from unidecode import unidecode\n",
    "from nltk.corpus import stopwords"
   ]
  },
  {
   "cell_type": "code",
   "execution_count": 42,
   "metadata": {},
   "outputs": [
    {
     "data": {
      "text/plain": [
       "['This_1_#Sentence_Is_FOR number, and, punctuation!',\n",
       " 'THIS SECOND SENTENCE IS FOR PALAVRAS NÃO INGLESAS',\n",
       " \"this sentence is for showing what's left\"]"
      ]
     },
     "execution_count": 42,
     "metadata": {},
     "output_type": "execute_result"
    }
   ],
   "source": [
    "# Definindo Corpus Experimental\n",
    "corpus = [\"This_1_#Sentence_Is_FOR number, and, punctuation!\", \"THIS SECOND SENTENCE IS FOR PALAVRAS NÃO INGLESAS\", \"this sentence is for showing what's left\"]\n",
    "corpus"
   ]
  },
  {
   "cell_type": "code",
   "execution_count": 43,
   "metadata": {},
   "outputs": [
    {
     "data": {
      "text/plain": [
       "['this_1_#sentence_is_for number, and, punctuation!',\n",
       " 'this second sentence is for palavras não inglesas',\n",
       " \"this sentence is for showing what's left\"]"
      ]
     },
     "execution_count": 43,
     "metadata": {},
     "output_type": "execute_result"
    }
   ],
   "source": [
    "# Colocando todas letras minúsculas\n",
    "corpus = [documento.lower() for documento in corpus]\n",
    "corpus"
   ]
  },
  {
   "cell_type": "code",
   "execution_count": 44,
   "metadata": {},
   "outputs": [
    {
     "data": {
      "text/plain": [
       "['this    sentence is for number  and  punctuation ',\n",
       " 'this second sentence is for palavras não inglesas',\n",
       " 'this sentence is for showing what s left']"
      ]
     },
     "execution_count": 44,
     "metadata": {},
     "output_type": "execute_result"
    }
   ],
   "source": [
    "# Removendo caracteres numérios, alfanuméricos e símbolos\n",
    "corpus = [re.sub(r'[\\W_]|\\d+', ' ', documento) for documento in corpus]\n",
    "corpus"
   ]
  },
  {
   "cell_type": "code",
   "execution_count": 45,
   "metadata": {},
   "outputs": [
    {
     "data": {
      "text/plain": [
       "['this    sentence is for number  and  punctuation ',\n",
       " 'this second sentence is for palavras nao inglesas',\n",
       " 'this sentence is for showing what s left']"
      ]
     },
     "execution_count": 45,
     "metadata": {},
     "output_type": "execute_result"
    }
   ],
   "source": [
    "# Removendo acentos\n",
    "corpus = [unidecode(documento) for documento in corpus]\n",
    "corpus"
   ]
  },
  {
   "cell_type": "code",
   "execution_count": 46,
   "metadata": {},
   "outputs": [
    {
     "data": {
      "text/plain": [
       "['this sentence is for number and punctuation',\n",
       " 'this second sentence is for',\n",
       " 'this sentence is for showing what s left']"
      ]
     },
     "execution_count": 46,
     "metadata": {},
     "output_type": "execute_result"
    }
   ],
   "source": [
    "# Removendo palavras não inglesas\n",
    "vocabulario_ingles = set(nltk.corpus.words.words())\n",
    "corpus = [\" \".join(palavra for palavra in nltk.wordpunct_tokenize(documento) if palavra in vocabulario_ingles or not palavra.isalpha()) for documento in corpus]\n",
    "corpus"
   ]
  },
  {
   "cell_type": "code",
   "execution_count": 48,
   "metadata": {},
   "outputs": [
    {
     "data": {
      "text/plain": [
       "[['this', 'sentence', 'is', 'for', 'number', 'and', 'punctuation'],\n",
       " ['this', 'second', 'sentence', 'is', 'for'],\n",
       " ['this', 'sentence', 'is', 'for', 'showing', 'what', 's', 'left']]"
      ]
     },
     "execution_count": 48,
     "metadata": {},
     "output_type": "execute_result"
    }
   ],
   "source": [
    "# Tokenization (BoW)\n",
    "corpus = [nltk.word_tokenize(documento) for documento in corpus]\n",
    "corpus"
   ]
  },
  {
   "cell_type": "code",
   "execution_count": 51,
   "metadata": {},
   "outputs": [
    {
     "data": {
      "text/plain": [
       "[['sentence', 'number', 'punctuation'],\n",
       " ['second', 'sentence'],\n",
       " ['sentence', 'showing', 'left']]"
      ]
     },
     "execution_count": 51,
     "metadata": {},
     "output_type": "execute_result"
    }
   ],
   "source": [
    "# Remoção de Stopwords\n",
    "for i in range(len(corpus)):\n",
    "    corpus[i] = [palavra for palavra in corpus[i] if palavra not in stopwords.words('english')]\n",
    "corpus"
   ]
  }
 ],
 "metadata": {
  "kernelspec": {
   "display_name": "Python 3",
   "language": "python",
   "name": "python3"
  },
  "language_info": {
   "codemirror_mode": {
    "name": "ipython",
    "version": 3
   },
   "file_extension": ".py",
   "mimetype": "text/x-python",
   "name": "python",
   "nbconvert_exporter": "python",
   "pygments_lexer": "ipython3",
   "version": "3.7.3"
  }
 },
 "nbformat": 4,
 "nbformat_minor": 2
}

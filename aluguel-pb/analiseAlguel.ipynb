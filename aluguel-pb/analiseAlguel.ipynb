{
 "cells": [
  {
   "cell_type": "code",
   "execution_count": 4,
   "metadata": {},
   "outputs": [],
   "source": [
    "import pandas as pd\n",
    "from os.path import join\n",
    "import numpy as np\n",
    "from pandas import ExcelWriter\n",
    "\n",
    "\n",
    "\n",
    "path_dadosLimpos = \"C:\\\\Users\\\\Macaubas\\\\Desktop\\\\Mestrado\\\\Dissertacao\\\\Scrapping Code\\\\Custo de Vida\\\\Extracoes\\\\olx\\\\Dados Limpos\\\\4_Semana_limpo\"\n",
    "\n",
    "df = pd.read_csv(join(path_dadosLimpos, 'pb_2022_1_26_limpo.csv'))\n",
    "\n",
    "# Filtrando pra João Pessoa\n",
    "df = df.query('MUNICIPIO == \"CAMPINA GRANDE\"')\n",
    "\n",
    "# Retirando categorias sem info\n",
    "\n",
    "df = df.query('CATEGORIA != \"SEM INFO\"')\n",
    "\n",
    "# Agrupando por bairro\n",
    "resumo_preco = df.groupby('BAIRRO').agg({'PRECO':['min','mean','median','max']}).rename(columns={'min': 'Mínimo', 'mean': 'Média', 'median':'Mediana', 'max':'Máximo'}).reset_index()\n",
    "\n",
    "# Criando preço por metro quadradO\n",
    "df = df.assign(ALUGUEL_M2 = np.select([df['CATEGORIA'] == 'APARTAMENTOS'], [df['PRECO']/df['AREA_UTIL']], df['PRECO']/df['AREA_CONSTRUIDA']))\n",
    "\n",
    "resumo_alu_m2 = df.groupby('BAIRRO').agg({'ALUGUEL_M2':['min','mean','median','max']}).rename(columns={'min': 'Mínimo', 'mean': 'Média', 'median':'Mediana', 'max':'Máximo'}).reset_index()\n",
    "\n",
    "# Salvando arquivo  \n",
    "writer = ExcelWriter('aluguel_cg.xlsx')\n",
    "resumo_preco.to_excel(writer, 'Aluguel')\n",
    "resumo_alu_m2.to_excel(writer, 'Aluguel m²',)\n",
    "writer.save()"
   ]
  }
 ],
 "metadata": {
  "interpreter": {
   "hash": "2a511e082f8a37a3d5689fd87d4e11d6ade31cb00534a829fefe1f1f50a68a87"
  },
  "kernelspec": {
   "display_name": "Python 3.8.8 64-bit ('base': conda)",
   "language": "python",
   "name": "python3"
  },
  "language_info": {
   "codemirror_mode": {
    "name": "ipython",
    "version": 3
   },
   "file_extension": ".py",
   "mimetype": "text/x-python",
   "name": "python",
   "nbconvert_exporter": "python",
   "pygments_lexer": "ipython3",
   "version": "3.8.8"
  },
  "orig_nbformat": 4
 },
 "nbformat": 4,
 "nbformat_minor": 2
}
